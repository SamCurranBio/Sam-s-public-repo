{
 "cells": [
  {
   "cell_type": "markdown",
   "id": "2c90ce69-4663-4c5b-b7ae-76730a41aeae",
   "metadata": {},
   "source": [
    "# matrix multiplication"
   ]
  },
  {
   "cell_type": "code",
   "execution_count": 13,
   "id": "896e9759-7cae-461a-a4af-c862778b3602",
   "metadata": {},
   "outputs": [
    {
     "data": {
      "text/plain": [
       "array([[ 5,  5],\n",
       "       [ 5, 10],\n",
       "       [ 6, -1]])"
      ]
     },
     "execution_count": 13,
     "metadata": {},
     "output_type": "execute_result"
    }
   ],
   "source": [
    "import numpy as np\n",
    "\n",
    "# Define a 2x2 matrix using NumPy array\n",
    "matrix_A = np.array([[1,2],\n",
    "                   [-1, 3],\n",
    "                    [4,1]])\n",
    "matrix_B = np.array([[1,-1],\n",
    "                   [2,3]])\n",
    "\n",
    "matrix_C = np.dot(matrix_A, matrix_B)\n",
    "matrix_C"
   ]
  },
  {
   "cell_type": "code",
   "execution_count": 2,
   "id": "c632cabd-bc9a-4440-942b-9780a9612882",
   "metadata": {},
   "outputs": [
    {
     "name": "stdout",
     "output_type": "stream",
     "text": [
      "1\n",
      "4\n"
     ]
    }
   ],
   "source": [
    "\n",
    "# Accessing elements of the matrix\n",
    "print(matrix[0, 0])  # prints the element in the first row, first column (1)\n",
    "print(matrix[1, 1])  # prints the element in the second row, second column (4)"
   ]
  },
  {
   "cell_type": "markdown",
   "id": "04b00dfc-47ad-45e9-a7c9-7cd63746994a",
   "metadata": {},
   "source": [
    "# identity matrix"
   ]
  },
  {
   "cell_type": "code",
   "execution_count": 20,
   "id": "f1190bd7-51cb-4ca1-9b77-f54e96f20f0c",
   "metadata": {},
   "outputs": [
    {
     "name": "stdout",
     "output_type": "stream",
     "text": [
      "[[ 1  2  3]\n",
      " [-1  3  4]]\n",
      "[[ 1  2  3  0]\n",
      " [-1  3  4  0]]\n"
     ]
    }
   ],
   "source": [
    "import numpy as np\n",
    "\n",
    "# Define a 2x3 matrix using NumPy array\n",
    "matrix_A = np.array([[1,2,3],\n",
    "                   [-1, 3,4],\n",
    "                    ])\n",
    "# multiply by a 3x3 identity matrxi\n",
    "matrix_I = np.array([[1,0,0],\n",
    "                   [0,1,0],\n",
    "                    [0,0,1]])\n",
    "# what if it's a 3x4 id matrixt?\n",
    "matrix_I3x4 = np.array([[1,0,0,0],\n",
    "                   [0,1,0,0],\n",
    "                    [0,0,1,0]])\n",
    "\n",
    "matrix_AI = np.dot(matrix_A, matrix_I)\n",
    "matrix_AI3x4 = np.dot(matrix_A, matrix_I3x4)\n",
    "print(matrix_AI)\n",
    "print(matrix_AI3x4)"
   ]
  },
  {
   "cell_type": "markdown",
   "id": "96fab9fc-5bd6-45e6-a530-20e9b63653a3",
   "metadata": {},
   "source": [
    "# Here are some examples "
   ]
  },
  {
   "cell_type": "code",
   "execution_count": 23,
   "id": "d40f31e2-2fa9-4e67-b9af-fd537584121f",
   "metadata": {},
   "outputs": [
    {
     "data": {
      "text/plain": [
       "array([[34],\n",
       "       [ 2],\n",
       "       [11]])"
      ]
     },
     "execution_count": 23,
     "metadata": {},
     "output_type": "execute_result"
    }
   ],
   "source": [
    "matrix_A = np.array([[5,3,1],\n",
    "                   [-2,2,4],\n",
    "                    [7,0,1]])\n",
    "matrix_B = np.array([[2],\n",
    "                     [9],\n",
    "                    [-3]])\n",
    "\n",
    "matrix_C = np.dot(matrix_A, matrix_B)\n",
    "matrix_C"
   ]
  },
  {
   "cell_type": "code",
   "execution_count": 25,
   "id": "d418b799-9ef2-417d-b038-92641c59f350",
   "metadata": {},
   "outputs": [
    {
     "data": {
      "text/plain": [
       "(3, 1)"
      ]
     },
     "execution_count": 25,
     "metadata": {},
     "output_type": "execute_result"
    }
   ],
   "source": [
    "np.shape(matrix_A)\n",
    "np.shape(matrix_B)"
   ]
  },
  {
   "cell_type": "code",
   "execution_count": null,
   "id": "befaff6b-e038-4eb4-b99b-2c22cae5b36e",
   "metadata": {},
   "outputs": [],
   "source": []
  }
 ],
 "metadata": {
  "kernelspec": {
   "display_name": "Python 3 (ipykernel)",
   "language": "python",
   "name": "python3"
  },
  "language_info": {
   "codemirror_mode": {
    "name": "ipython",
    "version": 3
   },
   "file_extension": ".py",
   "mimetype": "text/x-python",
   "name": "python",
   "nbconvert_exporter": "python",
   "pygments_lexer": "ipython3",
   "version": "3.11.8"
  }
 },
 "nbformat": 4,
 "nbformat_minor": 5
}
