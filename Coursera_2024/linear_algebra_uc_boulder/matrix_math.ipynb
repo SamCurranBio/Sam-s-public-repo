{
 "cells": [
  {
   "cell_type": "markdown",
   "id": "2c90ce69-4663-4c5b-b7ae-76730a41aeae",
   "metadata": {},
   "source": [
    "# matrix multiplication"
   ]
  },
  {
   "cell_type": "code",
   "execution_count": 21,
   "id": "896e9759-7cae-461a-a4af-c862778b3602",
   "metadata": {},
   "outputs": [
    {
     "data": {
      "text/plain": [
       "array([[ 5, 20],\n",
       "       [10, -8]])"
      ]
     },
     "execution_count": 21,
     "metadata": {},
     "output_type": "execute_result"
    }
   ],
   "source": [
    "import numpy as np\n",
    "\n",
    "# Define a 2x2 matrix using NumPy array\n",
    "matrix_A = np.array([[2,2,1],\n",
    "                     [0,4,-2]])\n",
    "matrix_B = np.array([[7,6],\n",
    "                   [-1,1],\n",
    "                    [-7,6]])\n",
    "\n",
    "matrix_C = np.dot(matrix_A, matrix_B)\n",
    "matrix_C"
   ]
  },
  {
   "cell_type": "code",
   "execution_count": 55,
   "id": "c632cabd-bc9a-4440-942b-9780a9612882",
   "metadata": {},
   "outputs": [
    {
     "ename": "NameError",
     "evalue": "name 'matrix' is not defined",
     "output_type": "error",
     "traceback": [
      "\u001b[0;31m---------------------------------------------------------------------------\u001b[0m",
      "\u001b[0;31mNameError\u001b[0m                                 Traceback (most recent call last)",
      "Cell \u001b[0;32mIn[55], line 2\u001b[0m\n\u001b[1;32m      1\u001b[0m \u001b[38;5;66;03m# Accessing elements of the matrix\u001b[39;00m\n\u001b[0;32m----> 2\u001b[0m \u001b[38;5;28mprint\u001b[39m(\u001b[43mmatrix\u001b[49m[\u001b[38;5;241m0\u001b[39m, \u001b[38;5;241m0\u001b[39m])  \u001b[38;5;66;03m# prints the element in the first row, first column (1)\u001b[39;00m\n\u001b[1;32m      3\u001b[0m \u001b[38;5;28mprint\u001b[39m(matrix[\u001b[38;5;241m1\u001b[39m, \u001b[38;5;241m1\u001b[39m])  \u001b[38;5;66;03m# prints the element in the second row, second column (4)\u001b[39;00m\n",
      "\u001b[0;31mNameError\u001b[0m: name 'matrix' is not defined"
     ]
    }
   ],
   "source": [
    "\n",
    "# Accessing elements of the matrix\n",
    "print(matrix[0, 0])  # prints the element in the first row, first column (1)\n",
    "print(matrix[1, 1])  # prints the element in the second row, second column (4)"
   ]
  },
  {
   "cell_type": "markdown",
   "id": "04b00dfc-47ad-45e9-a7c9-7cd63746994a",
   "metadata": {},
   "source": [
    "# identity matrix"
   ]
  },
  {
   "cell_type": "code",
   "execution_count": 20,
   "id": "f1190bd7-51cb-4ca1-9b77-f54e96f20f0c",
   "metadata": {},
   "outputs": [
    {
     "name": "stdout",
     "output_type": "stream",
     "text": [
      "[[ 1  2  3]\n",
      " [-1  3  4]]\n",
      "[[ 1  2  3  0]\n",
      " [-1  3  4  0]]\n"
     ]
    }
   ],
   "source": [
    "import numpy as np\n",
    "\n",
    "# Define a 2x3 matrix using NumPy array\n",
    "matrix_A = np.array([[1,2,3],\n",
    "                   [-1, 3,4],\n",
    "                    ])\n",
    "# multiply by a 3x3 identity matrxi\n",
    "matrix_I = np.array([[1,0,0],\n",
    "                   [0,1,0],\n",
    "                    [0,0,1]])\n",
    "# what if it's a 3x4 id matrixt?\n",
    "matrix_I3x4 = np.array([[1,0,0,0],\n",
    "                   [0,1,0,0],\n",
    "                    [0,0,1,0]])\n",
    "\n",
    "matrix_AI = np.dot(matrix_A, matrix_I)\n",
    "matrix_AI3x4 = np.dot(matrix_A, matrix_I3x4)\n",
    "print(matrix_AI)\n",
    "print(matrix_AI3x4)"
   ]
  },
  {
   "cell_type": "markdown",
   "id": "96fab9fc-5bd6-45e6-a530-20e9b63653a3",
   "metadata": {},
   "source": [
    "# Here are some examples "
   ]
  },
  {
   "cell_type": "code",
   "execution_count": 23,
   "id": "d40f31e2-2fa9-4e67-b9af-fd537584121f",
   "metadata": {},
   "outputs": [
    {
     "data": {
      "text/plain": [
       "array([[34],\n",
       "       [ 2],\n",
       "       [11]])"
      ]
     },
     "execution_count": 23,
     "metadata": {},
     "output_type": "execute_result"
    }
   ],
   "source": [
    "matrix_A = np.array([[5,3,1],\n",
    "                   [-2,2,4],\n",
    "                    [7,0,1]])\n",
    "matrix_B = np.array([[2],\n",
    "                     [9],\n",
    "                    [-3]])\n",
    "\n",
    "matrix_C = np.dot(matrix_A, matrix_B)\n",
    "matrix_C"
   ]
  },
  {
   "cell_type": "code",
   "execution_count": 25,
   "id": "d418b799-9ef2-417d-b038-92641c59f350",
   "metadata": {},
   "outputs": [
    {
     "data": {
      "text/plain": [
       "(3, 1)"
      ]
     },
     "execution_count": 25,
     "metadata": {},
     "output_type": "execute_result"
    }
   ],
   "source": [
    "np.shape(matrix_A)\n",
    "np.shape(matrix_B)"
   ]
  },
  {
   "cell_type": "markdown",
   "id": "676027bb-752e-4553-9e2b-c98a4c919399",
   "metadata": {},
   "source": [
    "# Week 3"
   ]
  },
  {
   "cell_type": "markdown",
   "id": "8643cf46-028f-4f72-ad29-58c951c4e265",
   "metadata": {},
   "source": [
    "## Linear combinations"
   ]
  },
  {
   "cell_type": "code",
   "execution_count": 6,
   "id": "15faae02-0d9c-404e-ab61-9b12e408dcbc",
   "metadata": {},
   "outputs": [
    {
     "name": "stdout",
     "output_type": "stream",
     "text": [
      "Linear combination result: [[ 8]\n",
      " [11]\n",
      " [ 8]]\n"
     ]
    }
   ],
   "source": [
    "import numpy as np\n",
    "\n",
    "# Define the vectors as NumPy arrays\n",
    "vector_a1 = np.array([[1],\n",
    "                   [-2],\n",
    "                   [-5]])\n",
    "vector_a2 = np.array([[2],\n",
    "                   [5],\n",
    "                   [6]])\n",
    "\n",
    "# Define the coefficients for the linear combination\n",
    "coefficients = [2, 3]  # Coefficients for vector1 and vector2, respectively\n",
    "\n",
    "# Perform the linear combination\n",
    "result = coefficients[0] * vector_a1 + coefficients[1] * vector_a2\n",
    "\n",
    "print(\"Linear combination result:\", result)"
   ]
  },
  {
   "cell_type": "markdown",
   "id": "3c4efbd5-a65d-4c4f-9484-e6b1f0269d69",
   "metadata": {},
   "source": [
    "### is there such a linear combination such that the outcom is vector b"
   ]
  },
  {
   "cell_type": "code",
   "execution_count": null,
   "id": "0ada4ba0-f233-45ca-9c5c-c56d2a4fc4da",
   "metadata": {},
   "outputs": [],
   "source": []
  },
  {
   "cell_type": "code",
   "execution_count": 32,
   "id": "eb49cea2-5d03-425c-b326-a88855e1166d",
   "metadata": {},
   "outputs": [
    {
     "data": {
      "text/plain": [
       "array([[ 1,  2],\n",
       "       [-2,  5],\n",
       "       [-5,  6]])"
      ]
     },
     "execution_count": 32,
     "metadata": {},
     "output_type": "execute_result"
    }
   ],
   "source": [
    "vector_b = np.array([[7],\n",
    "                   [4],\n",
    "                   [-3]])\n",
    "\n",
    "\n",
    "matrix1 = np.column_stack((vector_a1, vector_a2))\n",
    "matrix1"
   ]
  },
  {
   "cell_type": "code",
   "execution_count": 31,
   "id": "d5fc3cde-f4a2-448c-b46c-f67a3740e44d",
   "metadata": {},
   "outputs": [
    {
     "data": {
      "text/plain": [
       "array([[ 7],\n",
       "       [ 4],\n",
       "       [-3]])"
      ]
     },
     "execution_count": 31,
     "metadata": {},
     "output_type": "execute_result"
    }
   ],
   "source": [
    "vector_b"
   ]
  },
  {
   "cell_type": "markdown",
   "id": "a0fbb70b-243a-4539-9524-ea35169bb3db",
   "metadata": {},
   "source": [
    "### Gaussian elimination"
   ]
  },
  {
   "cell_type": "code",
   "execution_count": null,
   "id": "3ddc33c4-d1df-4a18-a047-5fb4752a8372",
   "metadata": {},
   "outputs": [],
   "source": []
  },
  {
   "cell_type": "code",
   "execution_count": 27,
   "id": "18a21d75-793b-40b0-a245-8888b73d67ef",
   "metadata": {},
   "outputs": [],
   "source": [
    "\n",
    "\n",
    "import numpy as np\n",
    "\n",
    "def gaussian_elimination(A, b):\n",
    "    \"\"\"\n",
    "    Perform Gaussian elimination to solve the system of linear equations Ax = b.\n",
    "    A: coefficient matrix (n x n)\n",
    "    b: constant vector (n x 1)\n",
    "    Returns the solution vector x.\n",
    "    \"\"\"\n",
    "    n = len(A)\n",
    "\n",
    "    A = A.astype(np.float64)\n",
    "    b = b.astype(np.float64)\n",
    "    \n",
    "    # Forward elimination\n",
    "    for pivot_row in range(n):\n",
    "        # Partial pivoting: find the row with the largest absolute value in the pivot column\n",
    "        max_row = pivot_row\n",
    "        for i in range(pivot_row + 1, n):\n",
    "            if abs(A[i, pivot_row]) > abs(A[max_row, pivot_row]):\n",
    "                max_row = i\n",
    "        # Swap rows to make the pivot element the largest in its column\n",
    "        A[[pivot_row, max_row]] = A[[max_row, pivot_row]]\n",
    "        b[[pivot_row, max_row]] = b[[max_row, pivot_row]]\n",
    "        \n",
    "        # Eliminate all entries below the pivot\n",
    "        for i in range(pivot_row + 1, n):\n",
    "            factor = A[i, pivot_row] / A[pivot_row, pivot_row]\n",
    "            A[i, pivot_row:] -= factor * A[pivot_row, pivot_row:]\n",
    "            b[i] -= factor * b[pivot_row]\n",
    "    \n",
    "    # Back substitution\n",
    "    x = np.zeros(n)\n",
    "    for i in range(n - 1, -1, -1):\n",
    "        x[i] = (b[i] - np.dot(A[i, i + 1:], x[i + 1:])) / A[i, i]\n",
    "    \n",
    "    return x\n",
    "\n",
    "\n",
    "\n"
   ]
  },
  {
   "cell_type": "code",
   "execution_count": 28,
   "id": "b850234e-b7b5-49f3-a54a-28fbcbb18150",
   "metadata": {},
   "outputs": [
    {
     "name": "stdout",
     "output_type": "stream",
     "text": [
      "Solution: [-1.66666667  2.          0.        ]\n"
     ]
    },
    {
     "name": "stderr",
     "output_type": "stream",
     "text": [
      "/tmp/ipykernel_14097/1755774307.py:35: DeprecationWarning: Conversion of an array with ndim > 0 to a scalar is deprecated, and will error in future. Ensure you extract a single element from your array before performing this operation. (Deprecated NumPy 1.25.)\n",
      "  x[i] = (b[i] - np.dot(A[i, i + 1:], x[i + 1:])) / A[i, i]\n"
     ]
    }
   ],
   "source": [
    "# Example usage\n",
    "A = np.array([[ 3,4,4],\n",
    "           [6,8,4],\n",
    "             [0,2,2]]) # Specify dtype=float64\n",
    "b = np.array([[3],[6], [4]])    # Specify dtype=float64\n",
    "\n",
    "solution = gaussian_elimination(A,b)\n",
    "#solution = gaussian_elimination(A,b)\n",
    "print(\"Solution:\", solution)"
   ]
  },
  {
   "cell_type": "code",
   "execution_count": 38,
   "id": "7c249151-94dc-4826-9519-d6914a5c8ae6",
   "metadata": {},
   "outputs": [
    {
     "data": {
      "text/plain": [
       "(3, 1)"
      ]
     },
     "execution_count": 38,
     "metadata": {},
     "output_type": "execute_result"
    }
   ],
   "source": [
    "np.shape(b)"
   ]
  },
  {
   "cell_type": "code",
   "execution_count": 49,
   "id": "3029b1aa-86a2-4b4b-affa-2c5f277f1817",
   "metadata": {},
   "outputs": [
    {
     "data": {
      "text/plain": [
       "[0, 1, 3]"
      ]
     },
     "execution_count": 49,
     "metadata": {},
     "output_type": "execute_result"
    }
   ],
   "source": [
    ">>> import sympy \n",
    ">>> import numpy as np\n",
    "\n",
    ">>> _, inds2 = sympy.Matrix(A).T.rref()   # to check the rows you need to transpose!\n",
    "inds2\n",
    "[0, 1, 3]"
   ]
  },
  {
   "cell_type": "markdown",
   "id": "76b5f7cc-09ce-47ac-a07b-9438dd92c42a",
   "metadata": {},
   "source": [
    "# finding matrix inverse "
   ]
  },
  {
   "cell_type": "code",
   "execution_count": 34,
   "id": "34307ade-549c-4379-b8c9-9ab14f83b05b",
   "metadata": {},
   "outputs": [
    {
     "data": {
      "text/plain": [
       "array([[-0.5  ,  0.5  ,  0.5  ],\n",
       "       [ 0.375, -0.625, -0.125],\n",
       "       [-0.375,  1.125,  0.125]])"
      ]
     },
     "execution_count": 34,
     "metadata": {},
     "output_type": "execute_result"
    }
   ],
   "source": [
    "matrix = np.array([[1,8,4], [0,2,2], [3,6,2]])\n",
    "matrix_inverse = np.linalg.inv(matrix)\n",
    "matrix_inverse"
   ]
  },
  {
   "cell_type": "markdown",
   "id": "53053452-adf1-4db3-beec-e6594cabfe3a",
   "metadata": {},
   "source": [
    "# Week 4"
   ]
  },
  {
   "cell_type": "markdown",
   "id": "9c84bdb6-93c1-4f5a-aebf-6c4e8bfd640a",
   "metadata": {},
   "source": [
    "### determinant"
   ]
  },
  {
   "cell_type": "code",
   "execution_count": 24,
   "id": "d735ed60-0bd8-4368-ab8b-64dc12c1e8ad",
   "metadata": {},
   "outputs": [],
   "source": [
    "matrix = np.array([[7,3],\n",
    "                  [0,4]])"
   ]
  },
  {
   "cell_type": "code",
   "execution_count": 25,
   "id": "15dd5d34-1e89-4328-957e-efc3549c1fb7",
   "metadata": {},
   "outputs": [
    {
     "data": {
      "text/plain": [
       "27.999999999999996"
      ]
     },
     "execution_count": 25,
     "metadata": {},
     "output_type": "execute_result"
    }
   ],
   "source": [
    "determinant = np.linalg.det(matrix)\n",
    "determinant"
   ]
  },
  {
   "cell_type": "code",
   "execution_count": 26,
   "id": "ea71a76a-e10d-4f77-ab0a-6119166e1843",
   "metadata": {},
   "outputs": [
    {
     "name": "stdout",
     "output_type": "stream",
     "text": [
      "Eigenvalues:\n",
      "[7. 4.]\n",
      "\n",
      "Eigenvectors:\n",
      "[[ 1.         -0.70710678]\n",
      " [ 0.          0.70710678]]\n"
     ]
    }
   ],
   "source": [
    "\n",
    "eigenvalues, eigenvectors = np.linalg.eig(matrix)\n",
    "\n",
    "print(\"Eigenvalues:\")\n",
    "print(eigenvalues)\n",
    "print(\"\\nEigenvectors:\")\n",
    "print(eigenvectors)"
   ]
  },
  {
   "cell_type": "code",
   "execution_count": 83,
   "id": "6374bfaf-6116-40c7-b8d3-831098bf77ae",
   "metadata": {},
   "outputs": [],
   "source": [
    "# finding an eigenvector\n",
    "matrix_example = np.array([[1,6],\n",
    "                     [5,2]])\n",
    "matrix_id = np.array([[1,0],\n",
    "                     [0,1]])\n"
   ]
  },
  {
   "cell_type": "code",
   "execution_count": 85,
   "id": "908310a6-9048-4ea9-a6ab-2ef60c0d08e6",
   "metadata": {},
   "outputs": [
    {
     "data": {
      "text/plain": [
       "array([[-6,  6],\n",
       "       [ 5, -5]])"
      ]
     },
     "execution_count": 85,
     "metadata": {},
     "output_type": "execute_result"
    }
   ],
   "source": [
    "matrix_example - 7*matrix_id"
   ]
  },
  {
   "cell_type": "code",
   "execution_count": 1,
   "id": "1a99eaa4-4c03-4bfa-8ea9-169dfbcb15f5",
   "metadata": {},
   "outputs": [],
   "source": [
    "# Week 5\n"
   ]
  },
  {
   "cell_type": "code",
   "execution_count": 16,
   "id": "c8596c46-6e00-46d6-8b56-d46d39e6d09b",
   "metadata": {},
   "outputs": [
    {
     "data": {
      "text/plain": [
       "4.123105625617661"
      ]
     },
     "execution_count": 16,
     "metadata": {},
     "output_type": "execute_result"
    }
   ],
   "source": [
    "# calculate norm of vector \n",
    "vector_a = np.array([3,2,4])\n",
    "vector_b = np.array([1,5,2])\n",
    "\n",
    "a_sub_b = vector_a - vector_b\n",
    "norm = np.linalg.norm(a_sub_b)\n",
    "norm"
   ]
  },
  {
   "cell_type": "code",
   "execution_count": 17,
   "id": "a4400eb7-00fe-415a-8591-2f98ff5e31d3",
   "metadata": {},
   "outputs": [
    {
     "data": {
      "text/plain": [
       "17.0"
      ]
     },
     "execution_count": 17,
     "metadata": {},
     "output_type": "execute_result"
    }
   ],
   "source": [
    "norm*norm"
   ]
  },
  {
   "cell_type": "markdown",
   "id": "2e0e0c25-4d17-40a2-b53a-0430ab70d52a",
   "metadata": {},
   "source": [
    "# orthogonal projection "
   ]
  },
  {
   "cell_type": "code",
   "execution_count": 18,
   "id": "06dee870-c5a9-4bd3-85d8-4d5497680641",
   "metadata": {},
   "outputs": [
    {
     "name": "stdout",
     "output_type": "stream",
     "text": [
      "Original vector: [3 4 5]\n",
      "Vector to project onto: [1 0 0]\n",
      "Orthogonal projection: [3. 0. 0.]\n"
     ]
    }
   ],
   "source": [
    "import numpy as np\n",
    "\n",
    "def orthogonal_projection(vector, onto):\n",
    "    # Normalize the onto vector\n",
    "    onto_normalized = onto / np.linalg.norm(onto)\n",
    "    # Compute the dot product of the vector and onto vector\n",
    "    dot_product = np.dot(vector, onto_normalized)\n",
    "    # Project the vector onto the onto vector\n",
    "    projection = dot_product * onto_normalized\n",
    "    return projection\n",
    "\n",
    "# Example vectors\n",
    "vector = np.array([3, 4, 5])\n",
    "onto = np.array([1, 0, 0])\n",
    "\n",
    "# Compute the orthogonal projection\n",
    "projection = orthogonal_projection(vector, onto)\n",
    "\n",
    "print(\"Original vector:\", vector)\n",
    "print(\"Vector to project onto:\", onto)\n",
    "print(\"Orthogonal projection:\", projection)\n"
   ]
  },
  {
   "cell_type": "markdown",
   "id": "075b36b7-afb8-4690-8cc6-1597bfbd9383",
   "metadata": {},
   "source": [
    "# Least squares"
   ]
  },
  {
   "cell_type": "code",
   "execution_count": 36,
   "id": "42244184-16d3-4056-b93d-30d805a2789d",
   "metadata": {},
   "outputs": [
    {
     "name": "stdout",
     "output_type": "stream",
     "text": [
      "Coefficients: [2.  0.5]\n",
      "Residuals: [0.035]\n",
      "Rank of the coefficient matrix: 2\n",
      "Singular values of the coefficient matrix: [0.9486833 0.2      ]\n"
     ]
    }
   ],
   "source": [
    "import numpy as np\n",
    "\n",
    "# Define your data\n",
    "X = np.array([[.1, -.6], [.1, -.2], [.1, .1], [.1, .7]])\n",
    "y = np.array([-.1, .2,.1,.6])\n",
    "\n",
    "# Solve the least squares problem\n",
    "coefficients, residuals, rank, singular_values = np.linalg.lstsq(X, y, rcond=None)\n",
    "\n",
    "# Print the solution\n",
    "print(\"Coefficients:\", coefficients)\n",
    "print(\"Residuals:\", residuals)\n",
    "print(\"Rank of the coefficient matrix:\", rank)\n",
    "print(\"Singular values of the coefficient matrix:\", singular_values)\n"
   ]
  },
  {
   "cell_type": "markdown",
   "id": "c95e7aa6-a262-4814-89f1-6aea3275ab86",
   "metadata": {},
   "source": [
    "\n",
    "\n",
    "# random stuff"
   ]
  },
  {
   "cell_type": "code",
   "execution_count": 32,
   "id": "d899023d-0410-4fca-a58a-6df2c4e79863",
   "metadata": {},
   "outputs": [
    {
     "data": {
      "text/plain": [
       "array([[-40]])"
      ]
     },
     "execution_count": 32,
     "metadata": {},
     "output_type": "execute_result"
    }
   ],
   "source": [
    "a = np.array([[0],[5],[4]]).T\n",
    "b = np.array([[15],[-4],[-5]])\n",
    "np.dot(a,b)"
   ]
  },
  {
   "cell_type": "code",
   "execution_count": 31,
   "id": "181a4571-70e9-4fed-aa96-691167e537ef",
   "metadata": {},
   "outputs": [
    {
     "data": {
      "text/plain": [
       "array([[15, -4, -5]])"
      ]
     },
     "execution_count": 31,
     "metadata": {},
     "output_type": "execute_result"
    }
   ],
   "source": [
    "b"
   ]
  },
  {
   "cell_type": "code",
   "execution_count": null,
   "id": "610ae5f6-470c-4903-a5b2-9ee33af82127",
   "metadata": {},
   "outputs": [],
   "source": []
  }
 ],
 "metadata": {
  "kernelspec": {
   "display_name": "Python 3 (ipykernel)",
   "language": "python",
   "name": "python3"
  },
  "language_info": {
   "codemirror_mode": {
    "name": "ipython",
    "version": 3
   },
   "file_extension": ".py",
   "mimetype": "text/x-python",
   "name": "python",
   "nbconvert_exporter": "python",
   "pygments_lexer": "ipython3",
   "version": "3.11.8"
  }
 },
 "nbformat": 4,
 "nbformat_minor": 5
}
