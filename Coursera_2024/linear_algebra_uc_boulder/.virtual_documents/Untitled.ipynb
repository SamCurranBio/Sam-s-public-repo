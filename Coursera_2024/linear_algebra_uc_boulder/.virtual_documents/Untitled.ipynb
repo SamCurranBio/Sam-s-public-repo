


import numpy as np

# Define a 2x2 matrix using NumPy array
matrix_A = np.array([[1,2],
                   [-1, 3],
                    [4,1]])
matrix_B = np.array([[1,-1],
                   [2,3]])

matrix_C = np.dot(matrix_A, matrix_B)
matrix_C



# Accessing elements of the matrix
print(matrix[0, 0])  # prints the element in the first row, first column (1)
print(matrix[1, 1])  # prints the element in the second row, second column (4)





import numpy as np

# Define a 2x3 matrix using NumPy array
matrix_A = np.array([[1,2,3],
                   [-1, 3,4],
                    ])
# multiply by a 3x3 identity matrxi
matrix_I = np.array([[1,0,0],
                   [0,1,0],
                    [0,0,1]])
# what if it's a 3x4 id matrixt?
matrix_I3x4 = np.array([[1,0,0,0],
                   [0,1,0,0],
                    [0,0,1,0]])

matrix_AI = np.dot(matrix_A, matrix_I)
matrix_AI3x4 = np.dot(matrix_A, matrix_I3x4)
print(matrix_AI)
print(matrix_AI3x4)





matrix_A = np.array([[5,3,1],
                   [-2,2,4],
                    [7,0,1]])
matrix_B = np.array([[2],
                     [9],
                    [-3]])

matrix_C = np.dot(matrix_A, matrix_B)
matrix_C


np.shape(matrix_A)



