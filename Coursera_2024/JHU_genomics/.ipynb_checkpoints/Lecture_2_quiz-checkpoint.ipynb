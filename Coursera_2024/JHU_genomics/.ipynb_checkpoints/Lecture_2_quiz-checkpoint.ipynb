{
 "cells": [
  {
   "cell_type": "code",
   "execution_count": null,
   "id": "57af8995-3dcc-4784-b74a-b175cb8ac698",
   "metadata": {},
   "outputs": [],
   "source": [
    "import pandas as pd\n",
    "import numpy as np\n",
    "import matplotlib.pyplot as plt"
   ]
  },
  {
   "cell_type": "code",
   "execution_count": null,
   "id": "ac6089ac-94dc-4417-acdc-b45d711ca51f",
   "metadata": {},
   "outputs": [],
   "source": [
    "a = 17/2\n",
    "a"
   ]
  },
  {
   "cell_type": "code",
   "execution_count": null,
   "id": "a0b628ec-515d-42e8-9fc1-d58ac8ff1fd2",
   "metadata": {},
   "outputs": [],
   "source": [
    "mydna = 'acgt'\n",
    "mydna+mydna"
   ]
  },
  {
   "cell_type": "code",
   "execution_count": null,
   "id": "4d90465a-d0b2-4a95-bd78-bdc1ae7d5709",
   "metadata": {},
   "outputs": [],
   "source": [
    "mydna+ 1 "
   ]
  },
  {
   "cell_type": "code",
   "execution_count": null,
   "id": "6ac97a75-5f39-4e51-a350-40f769358cc5",
   "metadata": {},
   "outputs": [],
   "source": [
    "dna='agcagttagcta'\n",
    "dna.count('ag')"
   ]
  },
  {
   "cell_type": "code",
   "execution_count": null,
   "id": "9a59132b-3b4e-4a82-b96e-0ce9b7a78fd2",
   "metadata": {},
   "outputs": [],
   "source": [
    ">>> seqlen = '10bp'\n",
    ">>> seqlen='2'+seqlen\n",
    ">>> seqlen=seqlen*2"
   ]
  },
  {
   "cell_type": "code",
   "execution_count": null,
   "id": "9b755be2-7e4f-4587-85b9-7bfae5f82443",
   "metadata": {},
   "outputs": [],
   "source": [
    "seqlen"
   ]
  },
  {
   "cell_type": "code",
   "execution_count": null,
   "id": "7370f86b-857d-4bfe-81ef-dd142bdfdf82",
   "metadata": {},
   "outputs": [],
   "source": [
    "print('>HSBGPG Human bone gla gene\\\\transcript \"BGP\"\\nGGCAGATTCCCCCTAGA')"
   ]
  },
  {
   "cell_type": "code",
   "execution_count": null,
   "id": "c394635e-a8f4-4054-b4dd-149bae1aae97",
   "metadata": {},
   "outputs": [],
   "source": [
    "dna"
   ]
  },
  {
   "cell_type": "code",
   "execution_count": null,
   "id": "d3fc8521-9247-445b-99b0-e30a3ffed20d",
   "metadata": {},
   "outputs": [],
   "source": [
    ">>> o1 = dna.find('ag')\n",
    ">>> dna.find('ag',o1+1)"
   ]
  },
  {
   "cell_type": "code",
   "execution_count": null,
   "id": "df37eee4-6631-406e-b5de-d990b2338eb0",
   "metadata": {},
   "outputs": [],
   "source": [
    "1."
   ]
  },
  {
   "cell_type": "code",
   "execution_count": null,
   "id": "d70d3691-0448-4c33-b31b-590ef1f07771",
   "metadata": {},
   "outputs": [],
   "source": [
    "int(4+6/2+2*2)"
   ]
  },
  {
   "cell_type": "code",
   "execution_count": null,
   "id": "f63078e4-6a68-4340-80ad-a9fa1b8cab4a",
   "metadata": {},
   "outputs": [],
   "source": [
    "val = 1.234567 * 10 ** 6"
   ]
  },
  {
   "cell_type": "code",
   "execution_count": null,
   "id": "3afcc8ec-056b-4c34-842d-7197e00e3a1c",
   "metadata": {},
   "outputs": [],
   "source": [
    "val"
   ]
  },
  {
   "cell_type": "code",
   "execution_count": null,
   "id": "8c54eb76-bc1b-44c2-a765-2ece1ec39097",
   "metadata": {},
   "outputs": [],
   "source": [
    "np.log2(2048)"
   ]
  },
  {
   "cell_type": "code",
   "execution_count": null,
   "id": "e82764a7-b88f-4dc5-b00f-5f8b3f07282e",
   "metadata": {},
   "outputs": [],
   "source": [
    "range(1,20,1)"
   ]
  },
  {
   "cell_type": "code",
   "execution_count": null,
   "id": "b66026ce-ab8b-4f6f-9fec-b225beada9f4",
   "metadata": {},
   "outputs": [],
   "source": [
    "seq = 'abcd'"
   ]
  },
  {
   "cell_type": "code",
   "execution_count": null,
   "id": "810d2c77-750a-4706-88d3-cb98dd3e22a8",
   "metadata": {},
   "outputs": [],
   "source": [
    "for i in range(len(seq)) :     # line 1\n",
    "        for j in range(i) :        # line 2\n",
    "                print(seq[j:i])     # line 3"
   ]
  },
  {
   "cell_type": "code",
   "execution_count": null,
   "id": "434b3a8e-f659-4d37-8c8a-21d4b58306da",
   "metadata": {},
   "outputs": [],
   "source": [
    "i=1\n",
    "while i<len(seq) :\n",
    "      j=1\n",
    "      while(j<i) :\n",
    "                print(seq[j:i])\n",
    "                j=j+1\n",
    "      i=i+1"
   ]
  },
  {
   "cell_type": "code",
   "execution_count": null,
   "id": "5ae159cc-e19d-48f5-87e0-cb82995fd735",
   "metadata": {},
   "outputs": [],
   "source": [
    "L1 = ['a','b','c','a'] \n",
    "L2 = ['a','b','c','a'] \n",
    "L3 = []                         # line 1\n",
    "\n",
    "for elem in L1:            # line 2\n",
    "\n",
    "  if elem in L2 and elem not in L3:                 # line 3\n",
    "\n",
    "   L3.append(elem)     # line 4   \n",
    "L3"
   ]
  },
  {
   "cell_type": "code",
   "execution_count": null,
   "id": "82ae5b71-cdbe-468d-9c91-3d796f4df6e6",
   "metadata": {},
   "outputs": [],
   "source": [
    "d = {}\n",
    "result = False\n",
    "for x in L1:\n",
    "    if x in d:\n",
    "        result=True\n",
    "        break\n",
    "    d[x] = True #sets a dictionary value to true "
   ]
  },
  {
   "cell_type": "code",
   "execution_count": null,
   "id": "896225cc-c3d0-4bdb-a25a-f725bc262055",
   "metadata": {},
   "outputs": [],
   "source": [
    "d"
   ]
  },
  {
   "cell_type": "code",
   "execution_count": null,
   "id": "6bf3756f-6159-453b-832d-64385cc69a8d",
   "metadata": {},
   "outputs": [],
   "source": [
    "d = {}\n",
    "result = False\n",
    "for x in L1:\n",
    "    if not x in d:\n",
    "        d[x]=True\n",
    "        continue\n",
    "    result = True"
   ]
  },
  {
   "cell_type": "code",
   "execution_count": null,
   "id": "2ead2df2-ca80-40cf-9a05-7fc43c5cf16e",
   "metadata": {},
   "outputs": [],
   "source": [
    "d"
   ]
  },
  {
   "cell_type": "code",
   "execution_count": null,
   "id": "b579aab6-641d-4765-a6c9-9c0f125c87b4",
   "metadata": {},
   "outputs": [],
   "source": []
  },
  {
   "cell_type": "code",
   "execution_count": null,
   "id": "61f90eb4-0ffa-41aa-9a5f-bdf6f9ffef8f",
   "metadata": {},
   "outputs": [],
   "source": [
    "x =100000000\n",
    "if x>10 or x<-10: print('big')\n",
    "elif x>1000000: print('very big')\n",
    "elif x<-1000000: print('very big')\n",
    "else : print('small')"
   ]
  },
  {
   "cell_type": "code",
   "execution_count": null,
   "id": "ec80c4bb-700e-4743-b06a-5123981927f2",
   "metadata": {},
   "outputs": [],
   "source": [
    "i"
   ]
  },
  {
   "cell_type": "code",
   "execution_count": null,
   "id": "1d8c4f4b-b003-499a-92ff-5397f1cbd145",
   "metadata": {},
   "outputs": [],
   "source": [
    "for i in range(len(seq)+1) :     # line 1\n",
    "        for j in range(i) :        # line 2\n",
    "                print(seq[j:i])     # line 3"
   ]
  },
  {
   "cell_type": "code",
   "execution_count": null,
   "id": "784da41f-9b47-4e29-a534-7544e1d9ed1a",
   "metadata": {},
   "outputs": [],
   "source": [
    "i=0\n",
    "while i<len(seq)+1 :\n",
    "      j=0\n",
    "      while(j<i+1) :\n",
    "                print(seq[j:i])\n",
    "                j=j+1\n",
    "      i=i+1"
   ]
  },
  {
   "cell_type": "code",
   "execution_count": null,
   "id": "17e4811c-bb5b-42b8-aa9d-a9640ed01d46",
   "metadata": {},
   "outputs": [],
   "source": [
    "i=0 \n",
    "while i<len(seq) :\n",
    "      j=0 \n",
    "      while(j<i) :\n",
    "                print(seq[j:i]) "
   ]
  },
  {
   "cell_type": "code",
   "execution_count": null,
   "id": "571705c5-ffff-47c7-bf5b-548fd50e173f",
   "metadata": {},
   "outputs": [],
   "source": [
    "L3 = []                         # line 1\n",
    "\n",
    "for elem in L1:            # line 2\n",
    "    if elem in L3:\n",
    "        pass\n",
    "    if elem in L2:                 # line 3\n",
    "        L3.append(elem)     # line 4   \n",
    "\n",
    "L3"
   ]
  },
  {
   "cell_type": "code",
   "execution_count": null,
   "id": "8a58cb70-6ce1-4363-884f-d654f4d2c94c",
   "metadata": {},
   "outputs": [],
   "source": [
    "L3 = []                         # line 1\n",
    "\n",
    "for elem in L1:            # line 2\n",
    "    if elem in L2 and elem not in L3:                 # line 3\n",
    "        L3.append(elem)\n",
    "L3"
   ]
  },
  {
   "cell_type": "code",
   "execution_count": null,
   "id": "c75a33ea-a07b-4918-b4c7-900b33a4e51c",
   "metadata": {},
   "outputs": [],
   "source": [
    "mylist = [1,2,3,4,5,5]\n",
    "d = {}\n",
    "result = False\n",
    "for x in mylist:\n",
    "    if x in d:\n",
    "        result=True\n",
    "        break\n",
    "    d[x] = True #sets a dictionary value to true\n",
    "\n",
    "print (result, d)"
   ]
  },
  {
   "cell_type": "code",
   "execution_count": null,
   "id": "48586079-d088-41d3-a2f3-3d6926b3157a",
   "metadata": {},
   "outputs": [],
   "source": [
    "d = {}\n",
    "result = False\n",
    "for x in mylist:\n",
    "    if not x in d:\n",
    "        d[x]=True\n",
    "        continue\n",
    "    result = True\n",
    "\n",
    "print (result, d)"
   ]
  },
  {
   "cell_type": "markdown",
   "id": "f2b0ea29-7702-48e0-a9be-d5cfde079a60",
   "metadata": {},
   "source": [
    "# Week 5 - modules and functions"
   ]
  },
  {
   "cell_type": "code",
   "execution_count": null,
   "id": "9baf8033-fe33-48dc-b5d4-ab560d360db8",
   "metadata": {},
   "outputs": [],
   "source": [
    "import sys"
   ]
  },
  {
   "cell_type": "code",
   "execution_count": null,
   "id": "0df8c456-cd9a-435c-92eb-279f22fbdfae",
   "metadata": {},
   "outputs": [],
   "source": [
    "sys.path #describes all things in the path variable (locations to find modules) \n",
    "#sys.path.appen(\"insert location here\")\n",
    "\n",
    "import random\n",
    "def create_dna(n, alphabet=’acgt’):\n",
    "    return ’’.join([random.choice(alphabet) for i in range(n)])"
   ]
  },
  {
   "cell_type": "code",
   "execution_count": null,
   "id": "bbc21926-dcc5-4e84-833f-9baa83cc3c7e",
   "metadata": {},
   "outputs": [],
   "source": [
    "#question 2: "
   ]
  },
  {
   "cell_type": "code",
   "execution_count": null,
   "id": "6e0dac5f-88ca-41a5-93d8-f690f1c9ba7c",
   "metadata": {},
   "outputs": [],
   "source": [
    "\n",
    "import random\n",
    "def create_dna(n, alphabet='acgt'):\n",
    "    return ''.join([random.choice(alphabet) for i in range(n)])\n",
    "dna = create_dna(10000000)\n",
    "#print(dna)"
   ]
  },
  {
   "cell_type": "markdown",
   "id": "328ffd45-716d-432f-8c1d-38144efd13a2",
   "metadata": {},
   "source": [
    "#### Question 3: \n",
    "The following functions are all supposed to count how many times a certain base (represented as a character variable in Python) appears in a dna sequence (represented as a string variable in Python): \n",
    "\n",
    "Which of them is correct?"
   ]
  },
  {
   "cell_type": "code",
   "execution_count": null,
   "id": "fac9e615-d95e-400c-9f00-3fdea1083e2a",
   "metadata": {},
   "outputs": [],
   "source": [
    "def count1(dna, base): # appears to work well \n",
    "    i = 0\n",
    "    for c in dna:\n",
    "        if c == base:\n",
    "    \t    i += 1 \n",
    "    return i\n",
    "\n",
    "def count2(dna, base): #works well \n",
    "    i = 0 \n",
    "    for j in range(len(dna)): #creates an index of 0-9 \n",
    "        if dna[j] == base:\n",
    "    \t    i += 1 \n",
    "    return i \n",
    "\n",
    "def count3(dna, base): #works well! \n",
    "    match = [c == base for c in dna] #list comprehension generates a true/false list. sum returns sum of trues. pretty cool! \n",
    "    return sum(match)\n",
    "\n",
    "def count4(dna, base): #works well. very clean. \n",
    "    return dna.count(base)\n",
    "\n",
    "def count5(dna, base): #works \n",
    "    return len([i for i in range(len(dna)) if dna[i] == base]) #gives indices of true values \n",
    "\n",
    "def count6(dna,base):\n",
    "    return sum(c == base for c in dna) #same as count 3 "
   ]
  },
  {
   "cell_type": "code",
   "execution_count": null,
   "id": "7ca04556-4c74-49f6-9a1c-c7e181105d5a",
   "metadata": {},
   "outputs": [],
   "source": [
    "base = 'c'\n",
    "\n",
    "count4(dna, base)"
   ]
  },
  {
   "cell_type": "markdown",
   "id": "5f608865-bb8b-414f-b443-0fc6d2d0c4c6",
   "metadata": {},
   "source": [
    "#### Question 4\n",
    "Which of the correct functions defined in the previous exercise is the fastest?\n",
    "\n",
    "Hint. You will need to generate a very large string to test them on, and the function clock() from the time module to time each function."
   ]
  },
  {
   "cell_type": "code",
   "execution_count": null,
   "id": "ddac6898-3e05-462a-af49-82d8f9d18df8",
   "metadata": {},
   "outputs": [],
   "source": [
    "import time\n",
    "time.perf_counter() "
   ]
  },
  {
   "cell_type": "code",
   "execution_count": null,
   "id": "6070f454-1f41-4864-9c8e-897a79ae1ca4",
   "metadata": {},
   "outputs": [],
   "source": [
    "result = {}\n",
    "function_container = [count1, count2, count3, count4, count5, count6]\n",
    "for function in function_container:\n",
    "    function(dna, base)\n",
    "    result[function] = time.perf_counter_ns() \n",
    "\n",
    "result"
   ]
  },
  {
   "cell_type": "code",
   "execution_count": null,
   "id": "49a28fb3-2fb7-4a6b-9bc6-2d37cd38621f",
   "metadata": {},
   "outputs": [],
   "source": [
    "import sys\n",
    "\n",
    "print(sys.__version__)"
   ]
  },
  {
   "cell_type": "markdown",
   "id": "0c1b1272-ef3d-47cf-b733-029ccd56dbfe",
   "metadata": {},
   "source": [
    "# Week 7 - Open and Close"
   ]
  },
  {
   "cell_type": "code",
   "execution_count": null,
   "id": "5dfd46d9-02cb-4c01-b752-c279f553f6c7",
   "metadata": {},
   "outputs": [],
   "source": [
    "f= open ('myfile.txt', 'r') #read \n",
    "#f= open ('myfile.txt', 'w') #write \n",
    "#f= open ('myfile.txt', 'a') #append "
   ]
  },
  {
   "cell_type": "code",
   "execution_count": null,
   "id": "0093a8c5-f542-4340-81e5-74320648b61f",
   "metadata": {},
   "outputs": [],
   "source": [
    "# reading\n",
    "f= open ('myfile.txt', 'r') #read \n",
    "for line in f:\n",
    "    print(line)\n",
    "\n",
    "f.read() #doesn't give anything because we're already at the end of the file \n",
    "f.seek(0)  #go to position 0 \n",
    "f.read() # now this works because we've restarted at the beginning with f.seek()\n",
    "f.seek(0)  #go to position 0 \n",
    "f.readline()\n",
    "f.close()"
   ]
  },
  {
   "cell_type": "code",
   "execution_count": null,
   "id": "5fe0e09f-f0e3-4155-8da1-11c4fc9d8b18",
   "metadata": {},
   "outputs": [],
   "source": [
    "# writing/appending \n",
    "f = open('myfile.txt', 'a') #append \n",
    "f.write('hello?') # will write 'test' and output # of characters\n",
    "f.close() #required to save file "
   ]
  },
  {
   "cell_type": "markdown",
   "id": "bc197d24-8e92-4edb-9a8f-a400ad42c36a",
   "metadata": {},
   "source": [
    "#### reading fasta files "
   ]
  },
  {
   "cell_type": "code",
   "execution_count": null,
   "id": "03639ed1-55c7-4975-82cb-f9b607c40e5c",
   "metadata": {},
   "outputs": [],
   "source": [
    "with open('myfile.txt', 'r') as temp_file:\n",
    "    fasta = [line.rstrip('\\n') for line in temp_file] #Gets rid of newlines \n",
    "    #fasta = temp_file.read().splitlines()\n",
    "\n",
    "\n",
    "# this works if each fasta file is on a single line\n",
    "keys = []\n",
    "values = []\n",
    "for line in fasta:\n",
    "    if line != \"\": #gets rid of empty lines \n",
    "        if line.startswith('>'): #determines if the line is the header \n",
    "            keys.append(line)\n",
    "        else:\n",
    "            values.append(line)\n",
    "\n",
    "fasta_dict = dict(zip(keys,values))\n",
    "fasta_dict"
   ]
  },
  {
   "cell_type": "markdown",
   "id": "a35914cf-0b6c-4311-89e2-1967b0deddac",
   "metadata": {},
   "source": [
    "### what if there's a fasta file that sequence on multiple lines?\n"
   ]
  },
  {
   "cell_type": "code",
   "execution_count": null,
   "id": "f91fb43e-ac09-4ad9-a253-b199817bfc5d",
   "metadata": {},
   "outputs": [],
   "source": [
    "# what if there's a fasta file that sequence on multiple lines?\n",
    "seqs = {}\n",
    "f =  open('myfile.txt', 'r')\n",
    "for line in f: \n",
    "    line = line.rstrip()\n",
    "    if line.startswith('>'):\n",
    "        name = line \n",
    "        seqs[name] = '' \n",
    "    else:\n",
    "        seqs[name] = seqs[name] + line #this will keep going until a new name is found, so should deal well with multi-line fastas\n",
    "\n",
    "f.close()\n",
    "seqs"
   ]
  },
  {
   "cell_type": "markdown",
   "id": "1143d0f6-1ee1-41e4-881a-f5c511260d33",
   "metadata": {},
   "source": [
    "### reading back from dictionaries "
   ]
  },
  {
   "cell_type": "code",
   "execution_count": null,
   "id": "9a67690a-4e1e-43a4-bdd1-fe67b994194d",
   "metadata": {},
   "outputs": [],
   "source": [
    "for name, seq in seqs.items():\n",
    "    print (name,seq)\n",
    "\n"
   ]
  },
  {
   "cell_type": "code",
   "execution_count": null,
   "id": "7c48c103-3de6-4c23-80ef-e3943ec78515",
   "metadata": {},
   "outputs": [],
   "source": []
  },
  {
   "cell_type": "markdown",
   "id": "e57fe031-fd10-4be8-97a9-f5d532fae1c8",
   "metadata": {},
   "source": [
    "### we may want to add some command line \n"
   ]
  },
  {
   "cell_type": "code",
   "execution_count": null,
   "id": "a1da899e-bc65-4553-8866-f80b79281e57",
   "metadata": {},
   "outputs": [],
   "source": [
    "! ls\n",
    "! python3 process_fasta.py myfile.fa\n",
    "\n",
    "print (sys.argv)"
   ]
  },
  {
   "cell_type": "code",
   "execution_count": null,
   "id": "a7712525-9c28-48bd-91e3-6312a022f651",
   "metadata": {},
   "outputs": [],
   "source": [
    "\n",
    "import sys\n",
    "print (sys.argv)"
   ]
  },
  {
   "cell_type": "code",
   "execution_count": null,
   "id": "c0fe6bd2-6624-40d1-9b20-94689835e67c",
   "metadata": {},
   "outputs": [],
   "source": [
    "seq"
   ]
  },
  {
   "cell_type": "markdown",
   "id": "7c862f0b-7076-4741-a964-a113ea47605e",
   "metadata": {},
   "source": [
    "# quiz 7"
   ]
  },
  {
   "cell_type": "code",
   "execution_count": null,
   "id": "23e2d895-dd39-4a82-b9f4-83a950dab2aa",
   "metadata": {},
   "outputs": [],
   "source": [
    "def get_extension1(filename):\n",
    "    return(filename.split(\".\")[-1])\n",
    "\n",
    "def get_extension2(filename):\n",
    "    import os.path\n",
    "    return(os.path.splitext(filename)[1])\n",
    "\n",
    "def get_extension3(filename):\n",
    "    return filename[filename.rfind('.'):][1:]"
   ]
  },
  {
   "cell_type": "code",
   "execution_count": null,
   "id": "a4a2ec68-835f-48fa-9626-5bfa56a4b2d6",
   "metadata": {},
   "outputs": [],
   "source": [
    "get_extension3('myfile')"
   ]
  },
  {
   "cell_type": "code",
   "execution_count": null,
   "id": "369cffaf-6ff8-4116-813b-f67b5eb81790",
   "metadata": {},
   "outputs": [],
   "source": [
    "import os"
   ]
  },
  {
   "cell_type": "code",
   "execution_count": null,
   "id": "b88e52af-1ef6-4c85-9219-f0b98480a1c2",
   "metadata": {},
   "outputs": [],
   "source": [
    "os.listdir()"
   ]
  },
  {
   "cell_type": "markdown",
   "id": "7e851cc0-a2c1-414a-be9e-742c428d0100",
   "metadata": {},
   "source": [
    "# Learning about biopython "
   ]
  },
  {
   "cell_type": "code",
   "execution_count": null,
   "id": "8701d0e9-ba8f-4547-bef1-b3dc38c140e3",
   "metadata": {},
   "outputs": [],
   "source": [
    "import Bio # biopython\n",
    "print (Bio.__version__)"
   ]
  },
  {
   "cell_type": "markdown",
   "id": "ad0ab5a7-4740-4e60-ae92-ef62d31fb026",
   "metadata": {},
   "source": [
    "### Blasting in Biopython"
   ]
  },
  {
   "cell_type": "markdown",
   "id": "57400b28-a1d2-4f27-bd66-7572c947a7c2",
   "metadata": {},
   "source": [
    "querying"
   ]
  },
  {
   "cell_type": "code",
   "execution_count": null,
   "id": "3cfcb949-612e-420e-b334-647ddb4c1a0b",
   "metadata": {},
   "outputs": [],
   "source": [
    "from Bio.Blast import NCBIWWW #blasting module \n",
    "mygene = 'rcsb_pdb_6QED.fasta'\n",
    "fasta_string = open(mygene).read()\n",
    "fasta_string"
   ]
  },
  {
   "cell_type": "code",
   "execution_count": null,
   "id": "73c07ae7-f5fc-4a4c-944a-642e6876e7d2",
   "metadata": {},
   "outputs": [],
   "source": [
    "result_handle = NCBIWWW.qblast(program = 'blastp', sequence= fasta_string, database = 'nr') #blast command \n",
    "result_handle # this comes back as an XML "
   ]
  },
  {
   "cell_type": "markdown",
   "id": "ed60b390-172a-4e5c-ba5c-959f60ec0e45",
   "metadata": {},
   "source": [
    "reading the results out"
   ]
  },
  {
   "cell_type": "code",
   "execution_count": null,
   "id": "7895bfca-64b4-4753-92b2-daad9cbdc058",
   "metadata": {},
   "outputs": [],
   "source": [
    "\n",
    "from Bio.Blast import NCBIXML # reader\n",
    "blast_record = NCBIXML.read(result_handle)"
   ]
  },
  {
   "cell_type": "code",
   "execution_count": null,
   "id": "171814f8-6b47-4a71-addf-9b34a7dc63ef",
   "metadata": {},
   "outputs": [],
   "source": [
    "len(blast_record.alignments) #lists # of alignments brought back, default is 50\n",
    "lists_to_df = []\n",
    "E_value_threshold = .0001\n",
    "for alignment in blast_record.alignments:\n",
    "    #print (alignment.hsps) # these are the metrics for matching\n",
    "    for hsp in alignment.hsps:\n",
    "        if hsp.expect < E_value_threshold: # only filter down the good matches\n",
    "            #print ('*****Alignment******')\n",
    "            #print ('sequence', alignment.title)\n",
    "            #print ('length', alignment.length)\n",
    "            #print ('e value', hsp.expect)\n",
    "            #print (hsp.query)\n",
    "            #print (hsp.match)\n",
    "            #print (hsp.sbjct)\n",
    "            lists_to_df.append([alignment.title,alignment.length,hsp.expect, hsp.match])\n",
    "  \n",
    "pd.options.display.max_rows =10\n",
    "pd.DataFrame(lists_to_df, columns = ['title','length','E-value','match'])"
   ]
  },
  {
   "cell_type": "code",
   "execution_count": null,
   "id": "50a540e0-40c2-4f78-a1b3-b861aaf4144a",
   "metadata": {},
   "outputs": [],
   "source": [
    "dir(Bio.Blast)"
   ]
  },
  {
   "cell_type": "code",
   "execution_count": null,
   "id": "71751869-80a7-4bc0-94b4-433581457652",
   "metadata": {},
   "outputs": [],
   "source": [
    "import Bio.Blast\n",
    "dir(Bio.Blast)"
   ]
  },
  {
   "cell_type": "markdown",
   "id": "07ad7c61-6f33-4d90-bee9-2f9ab16465ec",
   "metadata": {},
   "source": [
    "# quiz week 8"
   ]
  },
  {
   "cell_type": "markdown",
   "id": "91ef0526-3a56-423d-8d46-a7ed0bbb19cc",
   "metadata": {},
   "source": [
    "### Question 3: \n",
    "Using Biopython find out what species the following unknown DNA sequence comes from:\n"
   ]
  },
  {
   "cell_type": "code",
   "execution_count": null,
   "id": "75a5fe00-8997-4d2f-9663-b0c3806e652f",
   "metadata": {},
   "outputs": [],
   "source": [
    "myseq = 'TGGGCCTCATATTTATCCTATATACCATGTTCGTATGGTGGCGCGATGTTCTACGTGAATCCACGTTCGAAGGACATCATACCAAAGTCGTACAATTAGGACCTCGATATGGTTTTATTCTGTTTATCGTATCGGAGGTTATGTTCTTTTTTGCTCTTTTTCGGGCTTCTTCTCATTCTTCTTTGGCACCTACGGTAGAG' "
   ]
  },
  {
   "cell_type": "code",
   "execution_count": null,
   "id": "c62d9b26-a9c7-495f-9e30-663f451fb63e",
   "metadata": {},
   "outputs": [],
   "source": [
    "result_handle = NCBIWWW.qblast(program = 'blastn', sequence= myseq, database = 'nr') #blast command "
   ]
  },
  {
   "cell_type": "code",
   "execution_count": null,
   "id": "606b5b36-5363-437f-989a-9e9fdde47996",
   "metadata": {},
   "outputs": [],
   "source": [
    "len(blast_record.alignments) #lists # of alignments brought back, default is 50\n",
    "lists_to_df = []\n",
    "E_value_threshold = 1\n",
    "for alignment in blast_record.alignments:\n",
    "    #print (alignment.hsps) # these are the metrics for matching\n",
    "    for hsp in alignment.hsps:\n",
    "        if hsp.expect < E_value_threshold: # only filter down the good matches\n",
    "            #print ('*****Alignment******')\n",
    "            #print ('sequence', alignment.title)\n",
    "            #print ('length', alignment.length)\n",
    "            print ('e value', hsp.expect)\n",
    "            #print (hsp.query)\n",
    "            #print (hsp.match)\n",
    "            #print (hsp.sbjct)\n",
    "            lists_to_df.append([alignment.title,alignment.length,hsp.expect, hsp.match])\n",
    "  \n",
    "pd.options.display.max_rows =10\n",
    "df_blast = pd.DataFrame(lists_to_df, columns = ['title','length','E-value','match'])\n",
    "df_blast"
   ]
  },
  {
   "cell_type": "markdown",
   "id": "a9eab8c2-40ef-47cd-8bac-c877ba0f5413",
   "metadata": {},
   "source": [
    "### reverse complement"
   ]
  },
  {
   "cell_type": "code",
   "execution_count": null,
   "id": "09858122-24bf-43a9-a5ac-977ab901b309",
   "metadata": {},
   "outputs": [],
   "source": [
    "from Bio import Seq"
   ]
  },
  {
   "cell_type": "code",
   "execution_count": null,
   "id": "08829bb8-6f76-4ca1-bad8-c092a814ec47",
   "metadata": {},
   "outputs": [],
   "source": [
    "myseq = Seq.Seq(myseq) # convert to  a seq object\n",
    "myseq.reverse_complement()"
   ]
  },
  {
   "cell_type": "code",
   "execution_count": null,
   "id": "71c99684-a6bd-4a8f-8c9e-4f3c6bc20973",
   "metadata": {},
   "outputs": [],
   "source": [
    "a = Seq.Seq('TGGGCCTCATATTTATCCTATATACCATGTTCGTATGGTGGCGCGATGTTCTACGTGAATCCACGTTCGAAGGACATCATACCAAAGTCGTACAATTAGGACCTCGATATGGTTTTATTCTGTTTATCGTATCGGAGGTTATGTTCTTTTTTGCTCTTTTTCGGGCTTCTTCTCATTCTTCTTTGGCACCTACGGTAGAG')\n",
    "a.translate()"
   ]
  },
  {
   "cell_type": "markdown",
   "id": "d54d1175-14cc-42ce-bdbf-f756f30baaba",
   "metadata": {},
   "source": [
    "# Final exam"
   ]
  },
  {
   "cell_type": "code",
   "execution_count": 7,
   "id": "45a2a7ed-a381-408f-94a9-7ef91430ee4b",
   "metadata": {},
   "outputs": [],
   "source": [
    "from Bio import SeqIO\n",
    "import pandas as pd"
   ]
  },
  {
   "cell_type": "code",
   "execution_count": 116,
   "id": "9d1ddf02-0b0c-44f5-8249-0afbdccd6ae1",
   "metadata": {},
   "outputs": [
    {
     "data": {
      "text/html": [
       "<div>\n",
       "<style scoped>\n",
       "    .dataframe tbody tr th:only-of-type {\n",
       "        vertical-align: middle;\n",
       "    }\n",
       "\n",
       "    .dataframe tbody tr th {\n",
       "        vertical-align: top;\n",
       "    }\n",
       "\n",
       "    .dataframe thead th {\n",
       "        text-align: right;\n",
       "    }\n",
       "</style>\n",
       "<table border=\"1\" class=\"dataframe\">\n",
       "  <thead>\n",
       "    <tr style=\"text-align: right;\">\n",
       "      <th></th>\n",
       "      <th>name</th>\n",
       "      <th>len</th>\n",
       "      <th>sequence</th>\n",
       "    </tr>\n",
       "  </thead>\n",
       "  <tbody>\n",
       "    <tr>\n",
       "      <th>0</th>\n",
       "      <td>gi|142022655|gb|EQ086233.1|43</td>\n",
       "      <td>990</td>\n",
       "      <td>Seq('TCGGGCGAAGGCGGCAGCAAGTCGTCCACGCGCAGCGCGGC...</td>\n",
       "    </tr>\n",
       "    <tr>\n",
       "      <th>1</th>\n",
       "      <td>gi|142022655|gb|EQ086233.1|160</td>\n",
       "      <td>724</td>\n",
       "      <td>Seq('ATTGGGGAGGAGGCGAGTTGAGCGGCGGCAGTTCGCCTGCG...</td>\n",
       "    </tr>\n",
       "    <tr>\n",
       "      <th>2</th>\n",
       "      <td>gi|142022655|gb|EQ086233.1|41</td>\n",
       "      <td>3080</td>\n",
       "      <td>Seq('GACCTTGCATCGGCTGATCGCCGAGCGTGCCGACGTATTCA...</td>\n",
       "    </tr>\n",
       "    <tr>\n",
       "      <th>3</th>\n",
       "      <td>gi|142022655|gb|EQ086233.1|221</td>\n",
       "      <td>2863</td>\n",
       "      <td>Seq('GCCCGGCGATTTGACGTCTGCAGCCTCACGTCCAAACTCAA...</td>\n",
       "    </tr>\n",
       "    <tr>\n",
       "      <th>4</th>\n",
       "      <td>gi|142022655|gb|EQ086233.1|294</td>\n",
       "      <td>3832</td>\n",
       "      <td>Seq('GATCAGCCCCGCATACGCGTACGCGCGTGCGACGCCGAAGA...</td>\n",
       "    </tr>\n",
       "    <tr>\n",
       "      <th>5</th>\n",
       "      <td>gi|142022655|gb|EQ086233.1|323</td>\n",
       "      <td>4805</td>\n",
       "      <td>Seq('ACGCCCGGCGCACCGCGAGTACCGCGCCGCCGGGCACTCCT...</td>\n",
       "    </tr>\n",
       "    <tr>\n",
       "      <th>6</th>\n",
       "      <td>gi|142022655|gb|EQ086233.1|564</td>\n",
       "      <td>1663</td>\n",
       "      <td>Seq('CTGGTAGCCATGCAGCAAGGCTGGCGCTAGATGTACGGCCA...</td>\n",
       "    </tr>\n",
       "    <tr>\n",
       "      <th>7</th>\n",
       "      <td>gi|142022655|gb|EQ086233.1|521</td>\n",
       "      <td>512</td>\n",
       "      <td>Seq('CGTTGTTCGCCAGGTCGTCCGCATAGCCGGCCGAGCTGAAC...</td>\n",
       "    </tr>\n",
       "    <tr>\n",
       "      <th>8</th>\n",
       "      <td>gi|142022655|gb|EQ086233.1|455</td>\n",
       "      <td>691</td>\n",
       "      <td>Seq('TTCGAGTCGCTCGACGCGCCTCGACGGGCAACTAGCCGCCG...</td>\n",
       "    </tr>\n",
       "    <tr>\n",
       "      <th>9</th>\n",
       "      <td>gi|142022655|gb|EQ086233.1|229</td>\n",
       "      <td>3072</td>\n",
       "      <td>Seq('GGGTTCGGCGTCCTACTGGGGCGGCTACTGCAACCACGGCA...</td>\n",
       "    </tr>\n",
       "    <tr>\n",
       "      <th>10</th>\n",
       "      <td>gi|142022655|gb|EQ086233.1|422</td>\n",
       "      <td>1801</td>\n",
       "      <td>Seq('AGCGCGTAATAGAACTGCCGGTAGGTGCGGTTGTAATAGCG...</td>\n",
       "    </tr>\n",
       "    <tr>\n",
       "      <th>11</th>\n",
       "      <td>gi|142022655|gb|EQ086233.1|384</td>\n",
       "      <td>3603</td>\n",
       "      <td>Seq('CTTCCGATCGCATGTCACGCCGGCGCGACATTTCGACGAAC...</td>\n",
       "    </tr>\n",
       "    <tr>\n",
       "      <th>12</th>\n",
       "      <td>gi|142022655|gb|EQ086233.1|280</td>\n",
       "      <td>2478</td>\n",
       "      <td>Seq('GCAGCGACGAGCCGCCCCAGATCTTGATCCCGCACGCGCAG...</td>\n",
       "    </tr>\n",
       "    <tr>\n",
       "      <th>13</th>\n",
       "      <td>gi|142022655|gb|EQ086233.1|158</td>\n",
       "      <td>1608</td>\n",
       "      <td>Seq('GCCCGGTTTTCACGCGGAGATCGGGCGATTCCATCACCTGA...</td>\n",
       "    </tr>\n",
       "    <tr>\n",
       "      <th>14</th>\n",
       "      <td>gi|142022655|gb|EQ086233.1|59</td>\n",
       "      <td>4745</td>\n",
       "      <td>Seq('CGTGAATTCGATCTGCGGCAGCACGATCGCATGCATCACGC...</td>\n",
       "    </tr>\n",
       "    <tr>\n",
       "      <th>15</th>\n",
       "      <td>gi|142022655|gb|EQ086233.1|319</td>\n",
       "      <td>1810</td>\n",
       "      <td>Seq('CAGCGGCGACGAACATCGCGGCCGGCCGGGCGGCGGCGCAC...</td>\n",
       "    </tr>\n",
       "    <tr>\n",
       "      <th>16</th>\n",
       "      <td>gi|142022655|gb|EQ086233.1|438</td>\n",
       "      <td>3424</td>\n",
       "      <td>Seq('CGGGGTCCTGATCCGGGAGTCCGGGCCGCCGGCGTATCTTC...</td>\n",
       "    </tr>\n",
       "    <tr>\n",
       "      <th>17</th>\n",
       "      <td>gi|142022655|gb|EQ086233.1|210</td>\n",
       "      <td>1451</td>\n",
       "      <td>Seq('GAGCGACGGGAAAAGACGTACGGGAAACTCACGCCGTCGCA...</td>\n",
       "    </tr>\n",
       "    <tr>\n",
       "      <th>18</th>\n",
       "      <td>gi|142022655|gb|EQ086233.1|237</td>\n",
       "      <td>3276</td>\n",
       "      <td>Seq('GGACCGGATAGCCCTGGTCGCGCGCTTCGCTGAGTGCCGTG...</td>\n",
       "    </tr>\n",
       "    <tr>\n",
       "      <th>19</th>\n",
       "      <td>gi|142022655|gb|EQ086233.1|507</td>\n",
       "      <td>2124</td>\n",
       "      <td>Seq('CAGGCAGCGTTGCGCGCGTGACATGAATCATCGGGCGGCTA...</td>\n",
       "    </tr>\n",
       "    <tr>\n",
       "      <th>20</th>\n",
       "      <td>gi|142022655|gb|EQ086233.1|350</td>\n",
       "      <td>1712</td>\n",
       "      <td>Seq('GCAATGGGTGTCAGGAAGCGGCGCCGACGCAGCCCCGTATT...</td>\n",
       "    </tr>\n",
       "    <tr>\n",
       "      <th>21</th>\n",
       "      <td>gi|142022655|gb|EQ086233.1|245</td>\n",
       "      <td>1325</td>\n",
       "      <td>Seq('CCAGCCGAGCCCGAGTGCCAGCACGGCGCAGGCGGCGAGCA...</td>\n",
       "    </tr>\n",
       "    <tr>\n",
       "      <th>22</th>\n",
       "      <td>gi|142022655|gb|EQ086233.1|279</td>\n",
       "      <td>1189</td>\n",
       "      <td>Seq('AGGCTTGACCTTGTGCGGCAGCCGGCAGCCGCCGGCCGGCA...</td>\n",
       "    </tr>\n",
       "    <tr>\n",
       "      <th>23</th>\n",
       "      <td>gi|142022655|gb|EQ086233.1|378</td>\n",
       "      <td>555</td>\n",
       "      <td>Seq('CATGGCGCGCCTGCTGCACGCGCAACGCCTGTGCGATCCAG...</td>\n",
       "    </tr>\n",
       "    <tr>\n",
       "      <th>24</th>\n",
       "      <td>gi|142022655|gb|EQ086233.1|101</td>\n",
       "      <td>2449</td>\n",
       "      <td>Seq('CACATCGACACGAAGATCACCGCGCATGCGTTGCTGATCAC...</td>\n",
       "    </tr>\n",
       "  </tbody>\n",
       "</table>\n",
       "</div>"
      ],
      "text/plain": [
       "                              name   len  \\\n",
       "0    gi|142022655|gb|EQ086233.1|43   990   \n",
       "1   gi|142022655|gb|EQ086233.1|160   724   \n",
       "2    gi|142022655|gb|EQ086233.1|41  3080   \n",
       "3   gi|142022655|gb|EQ086233.1|221  2863   \n",
       "4   gi|142022655|gb|EQ086233.1|294  3832   \n",
       "5   gi|142022655|gb|EQ086233.1|323  4805   \n",
       "6   gi|142022655|gb|EQ086233.1|564  1663   \n",
       "7   gi|142022655|gb|EQ086233.1|521   512   \n",
       "8   gi|142022655|gb|EQ086233.1|455   691   \n",
       "9   gi|142022655|gb|EQ086233.1|229  3072   \n",
       "10  gi|142022655|gb|EQ086233.1|422  1801   \n",
       "11  gi|142022655|gb|EQ086233.1|384  3603   \n",
       "12  gi|142022655|gb|EQ086233.1|280  2478   \n",
       "13  gi|142022655|gb|EQ086233.1|158  1608   \n",
       "14   gi|142022655|gb|EQ086233.1|59  4745   \n",
       "15  gi|142022655|gb|EQ086233.1|319  1810   \n",
       "16  gi|142022655|gb|EQ086233.1|438  3424   \n",
       "17  gi|142022655|gb|EQ086233.1|210  1451   \n",
       "18  gi|142022655|gb|EQ086233.1|237  3276   \n",
       "19  gi|142022655|gb|EQ086233.1|507  2124   \n",
       "20  gi|142022655|gb|EQ086233.1|350  1712   \n",
       "21  gi|142022655|gb|EQ086233.1|245  1325   \n",
       "22  gi|142022655|gb|EQ086233.1|279  1189   \n",
       "23  gi|142022655|gb|EQ086233.1|378   555   \n",
       "24  gi|142022655|gb|EQ086233.1|101  2449   \n",
       "\n",
       "                                             sequence  \n",
       "0   Seq('TCGGGCGAAGGCGGCAGCAAGTCGTCCACGCGCAGCGCGGC...  \n",
       "1   Seq('ATTGGGGAGGAGGCGAGTTGAGCGGCGGCAGTTCGCCTGCG...  \n",
       "2   Seq('GACCTTGCATCGGCTGATCGCCGAGCGTGCCGACGTATTCA...  \n",
       "3   Seq('GCCCGGCGATTTGACGTCTGCAGCCTCACGTCCAAACTCAA...  \n",
       "4   Seq('GATCAGCCCCGCATACGCGTACGCGCGTGCGACGCCGAAGA...  \n",
       "5   Seq('ACGCCCGGCGCACCGCGAGTACCGCGCCGCCGGGCACTCCT...  \n",
       "6   Seq('CTGGTAGCCATGCAGCAAGGCTGGCGCTAGATGTACGGCCA...  \n",
       "7   Seq('CGTTGTTCGCCAGGTCGTCCGCATAGCCGGCCGAGCTGAAC...  \n",
       "8   Seq('TTCGAGTCGCTCGACGCGCCTCGACGGGCAACTAGCCGCCG...  \n",
       "9   Seq('GGGTTCGGCGTCCTACTGGGGCGGCTACTGCAACCACGGCA...  \n",
       "10  Seq('AGCGCGTAATAGAACTGCCGGTAGGTGCGGTTGTAATAGCG...  \n",
       "11  Seq('CTTCCGATCGCATGTCACGCCGGCGCGACATTTCGACGAAC...  \n",
       "12  Seq('GCAGCGACGAGCCGCCCCAGATCTTGATCCCGCACGCGCAG...  \n",
       "13  Seq('GCCCGGTTTTCACGCGGAGATCGGGCGATTCCATCACCTGA...  \n",
       "14  Seq('CGTGAATTCGATCTGCGGCAGCACGATCGCATGCATCACGC...  \n",
       "15  Seq('CAGCGGCGACGAACATCGCGGCCGGCCGGGCGGCGGCGCAC...  \n",
       "16  Seq('CGGGGTCCTGATCCGGGAGTCCGGGCCGCCGGCGTATCTTC...  \n",
       "17  Seq('GAGCGACGGGAAAAGACGTACGGGAAACTCACGCCGTCGCA...  \n",
       "18  Seq('GGACCGGATAGCCCTGGTCGCGCGCTTCGCTGAGTGCCGTG...  \n",
       "19  Seq('CAGGCAGCGTTGCGCGCGTGACATGAATCATCGGGCGGCTA...  \n",
       "20  Seq('GCAATGGGTGTCAGGAAGCGGCGCCGACGCAGCCCCGTATT...  \n",
       "21  Seq('CCAGCCGAGCCCGAGTGCCAGCACGGCGCAGGCGGCGAGCA...  \n",
       "22  Seq('AGGCTTGACCTTGTGCGGCAGCCGGCAGCCGCCGGCCGGCA...  \n",
       "23  Seq('CATGGCGCGCCTGCTGCACGCGCAACGCCTGTGCGATCCAG...  \n",
       "24  Seq('CACATCGACACGAAGATCACCGCGCATGCGTTGCTGATCAC...  "
      ]
     },
     "execution_count": 116,
     "metadata": {},
     "output_type": "execute_result"
    }
   ],
   "source": [
    "a = []\n",
    "with open('dna.example.fasta') as handle:\n",
    "    #records = list(SeqIO.parse(handle, 'fasta'))\n",
    "    #record_dict = SeqIO.to_dict(SeqIO.parse(handle, \"fasta\"))\n",
    "    names = []\n",
    "    lengths = []\n",
    "    seqs = []\n",
    "    for record in SeqIO.parse(handle, 'fasta'):\n",
    "        names.append(record.id)\n",
    "        lengths.append(len(record.seq))\n",
    "        seqs.append(repr(record.seq))\n",
    "df = pd.DataFrame(zip(names,lengths,seqs), columns = ['name','len','sequence'])\n",
    "df"
   ]
  },
  {
   "cell_type": "markdown",
   "id": "c5558358-9e31-4948-ae66-9687edc32e5f",
   "metadata": {},
   "source": [
    "#### How many records are in the file? "
   ]
  },
  {
   "cell_type": "code",
   "execution_count": 3,
   "id": "8b5825d7-fccf-4ab5-a70b-41761db0b8b6",
   "metadata": {},
   "outputs": [
    {
     "data": {
      "text/plain": [
       "25"
      ]
     },
     "execution_count": 3,
     "metadata": {},
     "output_type": "execute_result"
    }
   ],
   "source": [
    "\n",
    "len(names)"
   ]
  },
  {
   "attachments": {},
   "cell_type": "markdown",
   "id": "5ba3994a-fa27-41da-9f03-7778707a9028",
   "metadata": {},
   "source": [
    "#### (2) What are the lengths of the sequences in the file?\n",
    "What is the longest sequence and what is the shortest sequence? \n",
    "Is there more than one longest or shortest sequence? \n",
    "What are their identifiers? \n",
    "\n",
    "\n",
    "shortest = min(lengths)\n",
    "longest  = max(lengths)\n",
    "print ('min length', shortest)\n",
    "print ('max length', longest)\n"
   ]
  },
  {
   "cell_type": "code",
   "execution_count": 22,
   "id": "4dea01a5-bcd3-43d0-ba11-1fa9365d57b9",
   "metadata": {},
   "outputs": [
    {
     "data": {
      "text/html": [
       "<div>\n",
       "<style scoped>\n",
       "    .dataframe tbody tr th:only-of-type {\n",
       "        vertical-align: middle;\n",
       "    }\n",
       "\n",
       "    .dataframe tbody tr th {\n",
       "        vertical-align: top;\n",
       "    }\n",
       "\n",
       "    .dataframe thead th {\n",
       "        text-align: right;\n",
       "    }\n",
       "</style>\n",
       "<table border=\"1\" class=\"dataframe\">\n",
       "  <thead>\n",
       "    <tr style=\"text-align: right;\">\n",
       "      <th></th>\n",
       "      <th>name</th>\n",
       "      <th>len</th>\n",
       "    </tr>\n",
       "  </thead>\n",
       "  <tbody>\n",
       "    <tr>\n",
       "      <th>7</th>\n",
       "      <td>gi|142022655|gb|EQ086233.1|521</td>\n",
       "      <td>512</td>\n",
       "    </tr>\n",
       "  </tbody>\n",
       "</table>\n",
       "</div>"
      ],
      "text/plain": [
       "                             name  len\n",
       "7  gi|142022655|gb|EQ086233.1|521  512"
      ]
     },
     "execution_count": 22,
     "metadata": {},
     "output_type": "execute_result"
    }
   ],
   "source": [
    "# how many shortest and longest?\n",
    "df[df['len'] == min(df['len'])]"
   ]
  },
  {
   "cell_type": "code",
   "execution_count": 23,
   "id": "37c10ea5-bbea-4e25-a18e-dcb3345b80fc",
   "metadata": {},
   "outputs": [
    {
     "data": {
      "text/html": [
       "<div>\n",
       "<style scoped>\n",
       "    .dataframe tbody tr th:only-of-type {\n",
       "        vertical-align: middle;\n",
       "    }\n",
       "\n",
       "    .dataframe tbody tr th {\n",
       "        vertical-align: top;\n",
       "    }\n",
       "\n",
       "    .dataframe thead th {\n",
       "        text-align: right;\n",
       "    }\n",
       "</style>\n",
       "<table border=\"1\" class=\"dataframe\">\n",
       "  <thead>\n",
       "    <tr style=\"text-align: right;\">\n",
       "      <th></th>\n",
       "      <th>name</th>\n",
       "      <th>len</th>\n",
       "    </tr>\n",
       "  </thead>\n",
       "  <tbody>\n",
       "    <tr>\n",
       "      <th>5</th>\n",
       "      <td>gi|142022655|gb|EQ086233.1|323</td>\n",
       "      <td>4805</td>\n",
       "    </tr>\n",
       "  </tbody>\n",
       "</table>\n",
       "</div>"
      ],
      "text/plain": [
       "                             name   len\n",
       "5  gi|142022655|gb|EQ086233.1|323  4805"
      ]
     },
     "execution_count": 23,
     "metadata": {},
     "output_type": "execute_result"
    }
   ],
   "source": [
    "df[df['len'] == max(df['len'])]"
   ]
  },
  {
   "cell_type": "markdown",
   "id": "9db7d01c-4825-4a9d-9e52-0ed17f3938d5",
   "metadata": {},
   "source": [
    "#### (3) making an ORF-finder "
   ]
  },
  {
   "cell_type": "code",
   "execution_count": 197,
   "id": "744699a4-9406-4818-a6b7-953c701ea929",
   "metadata": {},
   "outputs": [],
   "source": [
    "import re\n",
    "my_seq =  'taaatgatgatgtagtatgagtagttataa'\n",
    "\n",
    "from functools import reduce\n",
    "\n",
    "def find_substring_indices(string, substrings):\n",
    "    indices = []\n",
    "    for substring in substrings:\n",
    "        indices += ([m.start() for m in re.finditer(substring, string)]) #finds all stop codons and adds them to the stop indices \n",
    "    return indices\n",
    "\n",
    "def orf_finder(seq):\n",
    "    start_indices = [m.start() for m in re.finditer('ATG', seq)] #get indices of all ATG codons \n",
    "    stop_indices = find_substring_indices(seq, ['TAG','TTA', 'TAA'])#get indices of all stop codons \n",
    "\n",
    "    orf_indices = []\n",
    "    orfs = []\n",
    "    stops = []\n",
    "    \n",
    "    for start in start_indices: #for each start codon \n",
    "        #print ('start codon:', start)\n",
    "        stops = [stop for stop in stop_indices if stop > start  ] #gets stop indices greater than start \n",
    "        #print('available stop codons:',stops)\n",
    "        for stop in stops: # for each stop \n",
    "            orf_indices.append([start,stop]) # get the indices \n",
    "            orf = seq[start:(stop+3)] \n",
    "            orfs.append(orf)\n",
    "\n",
    "    #longest_orf = max(orfs, key = len) #get the longest orf\n",
    "    \n",
    "    #return (longest_orf,len(longest_orf))   \n",
    "    return [orf_indices, orfs]\n",
    "# putting it into action "
   ]
  },
  {
   "cell_type": "markdown",
   "id": "6b270816-9575-400f-8759-b0554317f979",
   "metadata": {},
   "source": [
    "### applyhing this function to the dataframe"
   ]
  },
  {
   "cell_type": "code",
   "execution_count": 198,
   "id": "0783ea63-3283-4769-b120-71532d595368",
   "metadata": {},
   "outputs": [
    {
     "data": {
      "text/html": [
       "<div>\n",
       "<style scoped>\n",
       "    .dataframe tbody tr th:only-of-type {\n",
       "        vertical-align: middle;\n",
       "    }\n",
       "\n",
       "    .dataframe tbody tr th {\n",
       "        vertical-align: top;\n",
       "    }\n",
       "\n",
       "    .dataframe thead th {\n",
       "        text-align: right;\n",
       "    }\n",
       "</style>\n",
       "<table border=\"1\" class=\"dataframe\">\n",
       "  <thead>\n",
       "    <tr style=\"text-align: right;\">\n",
       "      <th></th>\n",
       "      <th>name</th>\n",
       "      <th>len</th>\n",
       "      <th>sequence</th>\n",
       "      <th>orf</th>\n",
       "    </tr>\n",
       "  </thead>\n",
       "  <tbody>\n",
       "    <tr>\n",
       "      <th>0</th>\n",
       "      <td>gi|142022655|gb|EQ086233.1|43</td>\n",
       "      <td>990</td>\n",
       "      <td>Seq('TCGGGCGAAGGCGGCAGCAAGTCGTCCACGCGCAGCGCGGC...</td>\n",
       "      <td>[[], []]</td>\n",
       "    </tr>\n",
       "    <tr>\n",
       "      <th>1</th>\n",
       "      <td>gi|142022655|gb|EQ086233.1|160</td>\n",
       "      <td>724</td>\n",
       "      <td>Seq('ATTGGGGAGGAGGCGAGTTGAGCGGCGGCAGTTCGCCTGCG...</td>\n",
       "      <td>[[], []]</td>\n",
       "    </tr>\n",
       "    <tr>\n",
       "      <th>2</th>\n",
       "      <td>gi|142022655|gb|EQ086233.1|41</td>\n",
       "      <td>3080</td>\n",
       "      <td>Seq('GACCTTGCATCGGCTGATCGCCGAGCGTGCCGACGTATTCA...</td>\n",
       "      <td>[[], []]</td>\n",
       "    </tr>\n",
       "    <tr>\n",
       "      <th>3</th>\n",
       "      <td>gi|142022655|gb|EQ086233.1|221</td>\n",
       "      <td>2863</td>\n",
       "      <td>Seq('GCCCGGCGATTTGACGTCTGCAGCCTCACGTCCAAACTCAA...</td>\n",
       "      <td>[[], []]</td>\n",
       "    </tr>\n",
       "    <tr>\n",
       "      <th>4</th>\n",
       "      <td>gi|142022655|gb|EQ086233.1|294</td>\n",
       "      <td>3832</td>\n",
       "      <td>Seq('GATCAGCCCCGCATACGCGTACGCGCGTGCGACGCCGAAGA...</td>\n",
       "      <td>[[], []]</td>\n",
       "    </tr>\n",
       "    <tr>\n",
       "      <th>5</th>\n",
       "      <td>gi|142022655|gb|EQ086233.1|323</td>\n",
       "      <td>4805</td>\n",
       "      <td>Seq('ACGCCCGGCGCACCGCGAGTACCGCGCCGCCGGGCACTCCT...</td>\n",
       "      <td>[[], []]</td>\n",
       "    </tr>\n",
       "    <tr>\n",
       "      <th>6</th>\n",
       "      <td>gi|142022655|gb|EQ086233.1|564</td>\n",
       "      <td>1663</td>\n",
       "      <td>Seq('CTGGTAGCCATGCAGCAAGGCTGGCGCTAGATGTACGGCCA...</td>\n",
       "      <td>[[[14, 32]], [ATGCAGCAAGGCTGGCGCTAG]]</td>\n",
       "    </tr>\n",
       "    <tr>\n",
       "      <th>7</th>\n",
       "      <td>gi|142022655|gb|EQ086233.1|521</td>\n",
       "      <td>512</td>\n",
       "      <td>Seq('CGTTGTTCGCCAGGTCGTCCGCATAGCCGGCCGAGCTGAAC...</td>\n",
       "      <td>[[], []]</td>\n",
       "    </tr>\n",
       "    <tr>\n",
       "      <th>8</th>\n",
       "      <td>gi|142022655|gb|EQ086233.1|455</td>\n",
       "      <td>691</td>\n",
       "      <td>Seq('TTCGAGTCGCTCGACGCGCCTCGACGGGCAACTAGCCGCCG...</td>\n",
       "      <td>[[], []]</td>\n",
       "    </tr>\n",
       "    <tr>\n",
       "      <th>9</th>\n",
       "      <td>gi|142022655|gb|EQ086233.1|229</td>\n",
       "      <td>3072</td>\n",
       "      <td>Seq('GGGTTCGGCGTCCTACTGGGGCGGCTACTGCAACCACGGCA...</td>\n",
       "      <td>[[], []]</td>\n",
       "    </tr>\n",
       "    <tr>\n",
       "      <th>10</th>\n",
       "      <td>gi|142022655|gb|EQ086233.1|422</td>\n",
       "      <td>1801</td>\n",
       "      <td>Seq('AGCGCGTAATAGAACTGCCGGTAGGTGCGGTTGTAATAGCG...</td>\n",
       "      <td>[[], []]</td>\n",
       "    </tr>\n",
       "    <tr>\n",
       "      <th>11</th>\n",
       "      <td>gi|142022655|gb|EQ086233.1|384</td>\n",
       "      <td>3603</td>\n",
       "      <td>Seq('CTTCCGATCGCATGTCACGCCGGCGCGACATTTCGACGAAC...</td>\n",
       "      <td>[[], []]</td>\n",
       "    </tr>\n",
       "    <tr>\n",
       "      <th>12</th>\n",
       "      <td>gi|142022655|gb|EQ086233.1|280</td>\n",
       "      <td>2478</td>\n",
       "      <td>Seq('GCAGCGACGAGCCGCCCCAGATCTTGATCCCGCACGCGCAG...</td>\n",
       "      <td>[[], []]</td>\n",
       "    </tr>\n",
       "    <tr>\n",
       "      <th>13</th>\n",
       "      <td>gi|142022655|gb|EQ086233.1|158</td>\n",
       "      <td>1608</td>\n",
       "      <td>Seq('GCCCGGTTTTCACGCGGAGATCGGGCGATTCCATCACCTGA...</td>\n",
       "      <td>[[], []]</td>\n",
       "    </tr>\n",
       "    <tr>\n",
       "      <th>14</th>\n",
       "      <td>gi|142022655|gb|EQ086233.1|59</td>\n",
       "      <td>4745</td>\n",
       "      <td>Seq('CGTGAATTCGATCTGCGGCAGCACGATCGCATGCATCACGC...</td>\n",
       "      <td>[[], []]</td>\n",
       "    </tr>\n",
       "    <tr>\n",
       "      <th>15</th>\n",
       "      <td>gi|142022655|gb|EQ086233.1|319</td>\n",
       "      <td>1810</td>\n",
       "      <td>Seq('CAGCGGCGACGAACATCGCGGCCGGCCGGGCGGCGGCGCAC...</td>\n",
       "      <td>[[], []]</td>\n",
       "    </tr>\n",
       "    <tr>\n",
       "      <th>16</th>\n",
       "      <td>gi|142022655|gb|EQ086233.1|438</td>\n",
       "      <td>3424</td>\n",
       "      <td>Seq('CGGGGTCCTGATCCGGGAGTCCGGGCCGCCGGCGTATCTTC...</td>\n",
       "      <td>[[], []]</td>\n",
       "    </tr>\n",
       "    <tr>\n",
       "      <th>17</th>\n",
       "      <td>gi|142022655|gb|EQ086233.1|210</td>\n",
       "      <td>1451</td>\n",
       "      <td>Seq('GAGCGACGGGAAAAGACGTACGGGAAACTCACGCCGTCGCA...</td>\n",
       "      <td>[[], []]</td>\n",
       "    </tr>\n",
       "    <tr>\n",
       "      <th>18</th>\n",
       "      <td>gi|142022655|gb|EQ086233.1|237</td>\n",
       "      <td>3276</td>\n",
       "      <td>Seq('GGACCGGATAGCCCTGGTCGCGCGCTTCGCTGAGTGCCGTG...</td>\n",
       "      <td>[[], []]</td>\n",
       "    </tr>\n",
       "    <tr>\n",
       "      <th>19</th>\n",
       "      <td>gi|142022655|gb|EQ086233.1|507</td>\n",
       "      <td>2124</td>\n",
       "      <td>Seq('CAGGCAGCGTTGCGCGCGTGACATGAATCATCGGGCGGCTA...</td>\n",
       "      <td>[[], []]</td>\n",
       "    </tr>\n",
       "    <tr>\n",
       "      <th>20</th>\n",
       "      <td>gi|142022655|gb|EQ086233.1|350</td>\n",
       "      <td>1712</td>\n",
       "      <td>Seq('GCAATGGGTGTCAGGAAGCGGCGCCGACGCAGCCCCGTATT...</td>\n",
       "      <td>[[], []]</td>\n",
       "    </tr>\n",
       "    <tr>\n",
       "      <th>21</th>\n",
       "      <td>gi|142022655|gb|EQ086233.1|245</td>\n",
       "      <td>1325</td>\n",
       "      <td>Seq('CCAGCCGAGCCCGAGTGCCAGCACGGCGCAGGCGGCGAGCA...</td>\n",
       "      <td>[[], []]</td>\n",
       "    </tr>\n",
       "    <tr>\n",
       "      <th>22</th>\n",
       "      <td>gi|142022655|gb|EQ086233.1|279</td>\n",
       "      <td>1189</td>\n",
       "      <td>Seq('AGGCTTGACCTTGTGCGGCAGCCGGCAGCCGCCGGCCGGCA...</td>\n",
       "      <td>[[], []]</td>\n",
       "    </tr>\n",
       "    <tr>\n",
       "      <th>23</th>\n",
       "      <td>gi|142022655|gb|EQ086233.1|378</td>\n",
       "      <td>555</td>\n",
       "      <td>Seq('CATGGCGCGCCTGCTGCACGCGCAACGCCTGTGCGATCCAG...</td>\n",
       "      <td>[[], []]</td>\n",
       "    </tr>\n",
       "    <tr>\n",
       "      <th>24</th>\n",
       "      <td>gi|142022655|gb|EQ086233.1|101</td>\n",
       "      <td>2449</td>\n",
       "      <td>Seq('CACATCGACACGAAGATCACCGCGCATGCGTTGCTGATCAC...</td>\n",
       "      <td>[[], []]</td>\n",
       "    </tr>\n",
       "  </tbody>\n",
       "</table>\n",
       "</div>"
      ],
      "text/plain": [
       "                              name   len  \\\n",
       "0    gi|142022655|gb|EQ086233.1|43   990   \n",
       "1   gi|142022655|gb|EQ086233.1|160   724   \n",
       "2    gi|142022655|gb|EQ086233.1|41  3080   \n",
       "3   gi|142022655|gb|EQ086233.1|221  2863   \n",
       "4   gi|142022655|gb|EQ086233.1|294  3832   \n",
       "5   gi|142022655|gb|EQ086233.1|323  4805   \n",
       "6   gi|142022655|gb|EQ086233.1|564  1663   \n",
       "7   gi|142022655|gb|EQ086233.1|521   512   \n",
       "8   gi|142022655|gb|EQ086233.1|455   691   \n",
       "9   gi|142022655|gb|EQ086233.1|229  3072   \n",
       "10  gi|142022655|gb|EQ086233.1|422  1801   \n",
       "11  gi|142022655|gb|EQ086233.1|384  3603   \n",
       "12  gi|142022655|gb|EQ086233.1|280  2478   \n",
       "13  gi|142022655|gb|EQ086233.1|158  1608   \n",
       "14   gi|142022655|gb|EQ086233.1|59  4745   \n",
       "15  gi|142022655|gb|EQ086233.1|319  1810   \n",
       "16  gi|142022655|gb|EQ086233.1|438  3424   \n",
       "17  gi|142022655|gb|EQ086233.1|210  1451   \n",
       "18  gi|142022655|gb|EQ086233.1|237  3276   \n",
       "19  gi|142022655|gb|EQ086233.1|507  2124   \n",
       "20  gi|142022655|gb|EQ086233.1|350  1712   \n",
       "21  gi|142022655|gb|EQ086233.1|245  1325   \n",
       "22  gi|142022655|gb|EQ086233.1|279  1189   \n",
       "23  gi|142022655|gb|EQ086233.1|378   555   \n",
       "24  gi|142022655|gb|EQ086233.1|101  2449   \n",
       "\n",
       "                                             sequence  \\\n",
       "0   Seq('TCGGGCGAAGGCGGCAGCAAGTCGTCCACGCGCAGCGCGGC...   \n",
       "1   Seq('ATTGGGGAGGAGGCGAGTTGAGCGGCGGCAGTTCGCCTGCG...   \n",
       "2   Seq('GACCTTGCATCGGCTGATCGCCGAGCGTGCCGACGTATTCA...   \n",
       "3   Seq('GCCCGGCGATTTGACGTCTGCAGCCTCACGTCCAAACTCAA...   \n",
       "4   Seq('GATCAGCCCCGCATACGCGTACGCGCGTGCGACGCCGAAGA...   \n",
       "5   Seq('ACGCCCGGCGCACCGCGAGTACCGCGCCGCCGGGCACTCCT...   \n",
       "6   Seq('CTGGTAGCCATGCAGCAAGGCTGGCGCTAGATGTACGGCCA...   \n",
       "7   Seq('CGTTGTTCGCCAGGTCGTCCGCATAGCCGGCCGAGCTGAAC...   \n",
       "8   Seq('TTCGAGTCGCTCGACGCGCCTCGACGGGCAACTAGCCGCCG...   \n",
       "9   Seq('GGGTTCGGCGTCCTACTGGGGCGGCTACTGCAACCACGGCA...   \n",
       "10  Seq('AGCGCGTAATAGAACTGCCGGTAGGTGCGGTTGTAATAGCG...   \n",
       "11  Seq('CTTCCGATCGCATGTCACGCCGGCGCGACATTTCGACGAAC...   \n",
       "12  Seq('GCAGCGACGAGCCGCCCCAGATCTTGATCCCGCACGCGCAG...   \n",
       "13  Seq('GCCCGGTTTTCACGCGGAGATCGGGCGATTCCATCACCTGA...   \n",
       "14  Seq('CGTGAATTCGATCTGCGGCAGCACGATCGCATGCATCACGC...   \n",
       "15  Seq('CAGCGGCGACGAACATCGCGGCCGGCCGGGCGGCGGCGCAC...   \n",
       "16  Seq('CGGGGTCCTGATCCGGGAGTCCGGGCCGCCGGCGTATCTTC...   \n",
       "17  Seq('GAGCGACGGGAAAAGACGTACGGGAAACTCACGCCGTCGCA...   \n",
       "18  Seq('GGACCGGATAGCCCTGGTCGCGCGCTTCGCTGAGTGCCGTG...   \n",
       "19  Seq('CAGGCAGCGTTGCGCGCGTGACATGAATCATCGGGCGGCTA...   \n",
       "20  Seq('GCAATGGGTGTCAGGAAGCGGCGCCGACGCAGCCCCGTATT...   \n",
       "21  Seq('CCAGCCGAGCCCGAGTGCCAGCACGGCGCAGGCGGCGAGCA...   \n",
       "22  Seq('AGGCTTGACCTTGTGCGGCAGCCGGCAGCCGCCGGCCGGCA...   \n",
       "23  Seq('CATGGCGCGCCTGCTGCACGCGCAACGCCTGTGCGATCCAG...   \n",
       "24  Seq('CACATCGACACGAAGATCACCGCGCATGCGTTGCTGATCAC...   \n",
       "\n",
       "                                      orf  \n",
       "0                                [[], []]  \n",
       "1                                [[], []]  \n",
       "2                                [[], []]  \n",
       "3                                [[], []]  \n",
       "4                                [[], []]  \n",
       "5                                [[], []]  \n",
       "6   [[[14, 32]], [ATGCAGCAAGGCTGGCGCTAG]]  \n",
       "7                                [[], []]  \n",
       "8                                [[], []]  \n",
       "9                                [[], []]  \n",
       "10                               [[], []]  \n",
       "11                               [[], []]  \n",
       "12                               [[], []]  \n",
       "13                               [[], []]  \n",
       "14                               [[], []]  \n",
       "15                               [[], []]  \n",
       "16                               [[], []]  \n",
       "17                               [[], []]  \n",
       "18                               [[], []]  \n",
       "19                               [[], []]  \n",
       "20                               [[], []]  \n",
       "21                               [[], []]  \n",
       "22                               [[], []]  \n",
       "23                               [[], []]  \n",
       "24                               [[], []]  "
      ]
     },
     "execution_count": 198,
     "metadata": {},
     "output_type": "execute_result"
    }
   ],
   "source": [
    "#df[['starts', 'stops', 'orfs']] = df['sequence'].apply(lambda x: orf_finder(x))\n",
    "df['orf'] = df['sequence'].apply(lambda x: orf_finder(x))\n",
    "df"
   ]
  },
  {
   "cell_type": "code",
   "execution_count": 200,
   "id": "c5d92624-cc0b-4d8c-9087-e7b0dc2454d5",
   "metadata": {},
   "outputs": [
    {
     "data": {
      "text/plain": [
       "(25,)"
      ]
     },
     "execution_count": 200,
     "metadata": {},
     "output_type": "execute_result"
    }
   ],
   "source": [
    "a = df['sequence'].apply(lambda x: orf_finder(x))\n",
    "np.shape(a)"
   ]
  },
  {
   "cell_type": "code",
   "execution_count": 202,
   "id": "9da92277-d484-42b5-9529-88570281b3db",
   "metadata": {},
   "outputs": [
    {
     "ename": "ValueError",
     "evalue": "cannot reshape array of size 25 into shape (25,3)",
     "output_type": "error",
     "traceback": [
      "\u001b[0;31m---------------------------------------------------------------------------\u001b[0m",
      "\u001b[0;31mValueError\u001b[0m                                Traceback (most recent call last)",
      "\u001b[0;32m/tmp/ipykernel_43703/2376390242.py\u001b[0m in \u001b[0;36m<module>\u001b[0;34m\u001b[0m\n\u001b[0;32m----> 1\u001b[0;31m \u001b[0mnp\u001b[0m\u001b[0;34m.\u001b[0m\u001b[0mreshape\u001b[0m\u001b[0;34m(\u001b[0m\u001b[0ma\u001b[0m\u001b[0;34m,\u001b[0m\u001b[0;34m(\u001b[0m\u001b[0;36m25\u001b[0m\u001b[0;34m,\u001b[0m\u001b[0;36m3\u001b[0m\u001b[0;34m)\u001b[0m\u001b[0;34m)\u001b[0m\u001b[0;34m\u001b[0m\u001b[0;34m\u001b[0m\u001b[0m\n\u001b[0m",
      "\u001b[0;32m~/.local/lib/python3.10/site-packages/numpy/core/fromnumeric.py\u001b[0m in \u001b[0;36mreshape\u001b[0;34m(a, newshape, order)\u001b[0m\n\u001b[1;32m    283\u001b[0m            [5, 6]])\n\u001b[1;32m    284\u001b[0m     \"\"\"\n\u001b[0;32m--> 285\u001b[0;31m     \u001b[0;32mreturn\u001b[0m \u001b[0m_wrapfunc\u001b[0m\u001b[0;34m(\u001b[0m\u001b[0ma\u001b[0m\u001b[0;34m,\u001b[0m \u001b[0;34m'reshape'\u001b[0m\u001b[0;34m,\u001b[0m \u001b[0mnewshape\u001b[0m\u001b[0;34m,\u001b[0m \u001b[0morder\u001b[0m\u001b[0;34m=\u001b[0m\u001b[0morder\u001b[0m\u001b[0;34m)\u001b[0m\u001b[0;34m\u001b[0m\u001b[0;34m\u001b[0m\u001b[0m\n\u001b[0m\u001b[1;32m    286\u001b[0m \u001b[0;34m\u001b[0m\u001b[0m\n\u001b[1;32m    287\u001b[0m \u001b[0;34m\u001b[0m\u001b[0m\n",
      "\u001b[0;32m~/.local/lib/python3.10/site-packages/numpy/core/fromnumeric.py\u001b[0m in \u001b[0;36m_wrapfunc\u001b[0;34m(obj, method, *args, **kwds)\u001b[0m\n\u001b[1;32m     54\u001b[0m     \u001b[0mbound\u001b[0m \u001b[0;34m=\u001b[0m \u001b[0mgetattr\u001b[0m\u001b[0;34m(\u001b[0m\u001b[0mobj\u001b[0m\u001b[0;34m,\u001b[0m \u001b[0mmethod\u001b[0m\u001b[0;34m,\u001b[0m \u001b[0;32mNone\u001b[0m\u001b[0;34m)\u001b[0m\u001b[0;34m\u001b[0m\u001b[0;34m\u001b[0m\u001b[0m\n\u001b[1;32m     55\u001b[0m     \u001b[0;32mif\u001b[0m \u001b[0mbound\u001b[0m \u001b[0;32mis\u001b[0m \u001b[0;32mNone\u001b[0m\u001b[0;34m:\u001b[0m\u001b[0;34m\u001b[0m\u001b[0;34m\u001b[0m\u001b[0m\n\u001b[0;32m---> 56\u001b[0;31m         \u001b[0;32mreturn\u001b[0m \u001b[0m_wrapit\u001b[0m\u001b[0;34m(\u001b[0m\u001b[0mobj\u001b[0m\u001b[0;34m,\u001b[0m \u001b[0mmethod\u001b[0m\u001b[0;34m,\u001b[0m \u001b[0;34m*\u001b[0m\u001b[0margs\u001b[0m\u001b[0;34m,\u001b[0m \u001b[0;34m**\u001b[0m\u001b[0mkwds\u001b[0m\u001b[0;34m)\u001b[0m\u001b[0;34m\u001b[0m\u001b[0;34m\u001b[0m\u001b[0m\n\u001b[0m\u001b[1;32m     57\u001b[0m \u001b[0;34m\u001b[0m\u001b[0m\n\u001b[1;32m     58\u001b[0m     \u001b[0;32mtry\u001b[0m\u001b[0;34m:\u001b[0m\u001b[0;34m\u001b[0m\u001b[0;34m\u001b[0m\u001b[0m\n",
      "\u001b[0;32m~/.local/lib/python3.10/site-packages/numpy/core/fromnumeric.py\u001b[0m in \u001b[0;36m_wrapit\u001b[0;34m(obj, method, *args, **kwds)\u001b[0m\n\u001b[1;32m     43\u001b[0m     \u001b[0;32mexcept\u001b[0m \u001b[0mAttributeError\u001b[0m\u001b[0;34m:\u001b[0m\u001b[0;34m\u001b[0m\u001b[0;34m\u001b[0m\u001b[0m\n\u001b[1;32m     44\u001b[0m         \u001b[0mwrap\u001b[0m \u001b[0;34m=\u001b[0m \u001b[0;32mNone\u001b[0m\u001b[0;34m\u001b[0m\u001b[0;34m\u001b[0m\u001b[0m\n\u001b[0;32m---> 45\u001b[0;31m     \u001b[0mresult\u001b[0m \u001b[0;34m=\u001b[0m \u001b[0mgetattr\u001b[0m\u001b[0;34m(\u001b[0m\u001b[0masarray\u001b[0m\u001b[0;34m(\u001b[0m\u001b[0mobj\u001b[0m\u001b[0;34m)\u001b[0m\u001b[0;34m,\u001b[0m \u001b[0mmethod\u001b[0m\u001b[0;34m)\u001b[0m\u001b[0;34m(\u001b[0m\u001b[0;34m*\u001b[0m\u001b[0margs\u001b[0m\u001b[0;34m,\u001b[0m \u001b[0;34m**\u001b[0m\u001b[0mkwds\u001b[0m\u001b[0;34m)\u001b[0m\u001b[0;34m\u001b[0m\u001b[0;34m\u001b[0m\u001b[0m\n\u001b[0m\u001b[1;32m     46\u001b[0m     \u001b[0;32mif\u001b[0m \u001b[0mwrap\u001b[0m\u001b[0;34m:\u001b[0m\u001b[0;34m\u001b[0m\u001b[0;34m\u001b[0m\u001b[0m\n\u001b[1;32m     47\u001b[0m         \u001b[0;32mif\u001b[0m \u001b[0;32mnot\u001b[0m \u001b[0misinstance\u001b[0m\u001b[0;34m(\u001b[0m\u001b[0mresult\u001b[0m\u001b[0;34m,\u001b[0m \u001b[0mmu\u001b[0m\u001b[0;34m.\u001b[0m\u001b[0mndarray\u001b[0m\u001b[0;34m)\u001b[0m\u001b[0;34m:\u001b[0m\u001b[0;34m\u001b[0m\u001b[0;34m\u001b[0m\u001b[0m\n",
      "\u001b[0;31mValueError\u001b[0m: cannot reshape array of size 25 into shape (25,3)"
     ]
    }
   ],
   "source": []
  },
  {
   "cell_type": "code",
   "execution_count": null,
   "id": "64de5c2d-8a4b-4ec1-9fa5-d8178ab95816",
   "metadata": {},
   "outputs": [],
   "source": []
  }
 ],
 "metadata": {
  "kernelspec": {
   "display_name": "Python 3 (ipykernel)",
   "language": "python",
   "name": "python3"
  },
  "language_info": {
   "codemirror_mode": {
    "name": "ipython",
    "version": 3
   },
   "file_extension": ".py",
   "mimetype": "text/x-python",
   "name": "python",
   "nbconvert_exporter": "python",
   "pygments_lexer": "ipython3",
   "version": "3.10.12"
  }
 },
 "nbformat": 4,
 "nbformat_minor": 5
}
