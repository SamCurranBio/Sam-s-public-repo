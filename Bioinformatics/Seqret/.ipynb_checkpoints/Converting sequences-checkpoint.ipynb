{
 "cells": [
  {
   "cell_type": "markdown",
   "id": "a1e8a951-1b8d-42bf-b757-8743c842aff4",
   "metadata": {},
   "source": [
    "# doing this with biopython \n"
   ]
  },
  {
   "cell_type": "code",
   "execution_count": 7,
   "id": "8acc61f8-b6e2-458a-960f-0905ccd8bf8d",
   "metadata": {},
   "outputs": [],
   "source": [
    "from Bio import SeqIO"
   ]
  },
  {
   "cell_type": "code",
   "execution_count": 24,
   "id": "e1fc7b94-2a35-41dc-8171-bf724aeb0ccd",
   "metadata": {},
   "outputs": [],
   "source": [
    "input_gb = \"/home/sam/work/morales_lab/beauveria_brassiana/augustus/b_brassiana_augustus.gff\"\n",
    "parse_object  = SeqIO.parse(input_seq, \"genbank\")\n",
    "\n"
   ]
  },
  {
   "cell_type": "code",
   "execution_count": 27,
   "id": "12586b89-f0a9-4cfa-91c7-65fdf6783001",
   "metadata": {},
   "outputs": [
    {
     "name": "stdout",
     "output_type": "stream",
     "text": [
      "NODE_1_length_181619_cov_21.346047.g1.t1 3411 []\n"
     ]
    }
   ],
   "source": [
    "# parsing in the files \n",
    "for seq_record in SeqIO.parse(input_seq, \"genbank\"):\n",
    "    print (seq_record.id, len(seq_record), seq_record.features)\n",
    "    break"
   ]
  },
  {
   "cell_type": "code",
   "execution_count": 17,
   "id": "dd9d2bac-78d4-43bf-85e8-57b82acfd93f",
   "metadata": {},
   "outputs": [
    {
     "data": {
      "text/plain": [
       "11033"
      ]
     },
     "execution_count": 17,
     "metadata": {},
     "output_type": "execute_result"
    }
   ],
   "source": [
    "SeqIO.write(parse_object, \"output.fasta\", \"fasta\")"
   ]
  },
  {
   "cell_type": "code",
   "execution_count": 26,
   "id": "d1ef19de-c3e4-48a2-98dc-7ccc4a8f65ee",
   "metadata": {},
   "outputs": [
    {
     "data": {
      "text/plain": [
       "11033"
      ]
     },
     "execution_count": 26,
     "metadata": {},
     "output_type": "execute_result"
    }
   ],
   "source": [
    "SeqIO.write(parse_object, \"output.gbk\", \"genbank\")"
   ]
  },
  {
   "cell_type": "code",
   "execution_count": null,
   "id": "e01c4172-0127-4e83-9ddf-57c653f384b2",
   "metadata": {},
   "outputs": [],
   "source": []
  }
 ],
 "metadata": {
  "kernelspec": {
   "display_name": "Python 3 (ipykernel)",
   "language": "python",
   "name": "python3"
  },
  "language_info": {
   "codemirror_mode": {
    "name": "ipython",
    "version": 3
   },
   "file_extension": ".py",
   "mimetype": "text/x-python",
   "name": "python",
   "nbconvert_exporter": "python",
   "pygments_lexer": "ipython3",
   "version": "3.11.8"
  }
 },
 "nbformat": 4,
 "nbformat_minor": 5
}
