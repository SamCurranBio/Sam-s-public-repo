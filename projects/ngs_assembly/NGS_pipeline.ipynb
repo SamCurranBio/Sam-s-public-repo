{
 "cells": [
  {
   "cell_type": "markdown",
   "id": "19969b3e-f4e6-44f7-9856-0e43c41f32d3",
   "metadata": {},
   "source": [
    "# Raw data preparation"
   ]
  },
  {
   "cell_type": "code",
   "execution_count": null,
   "id": "6e86ed5f-dba0-4edd-ae96-a648400cac6d",
   "metadata": {},
   "outputs": [],
   "source": [
    "# set up folders for the inputs and outputs\n",
    "# Set the variable\n",
    "%env UNIQUE_IDENTIFIER=abcd #required to set this as an environmental variable\n",
    "! echo $UNIQUE_IDENTIFIER\n"
   ]
  },
  {
   "cell_type": "markdown",
   "id": "73285dd0-9d9a-4aec-b2c7-9ea58b84ad63",
   "metadata": {},
   "source": [
    "## Unzip the file into a folder"
   ]
  },
  {
   "cell_type": "code",
   "execution_count": null,
   "id": "700c2bf8-04eb-4f83-9043-3b390bc20ea6",
   "metadata": {},
   "outputs": [],
   "source": [
    "! unzip ./OneDrive_1_4-9-2024.zip -d \"unzipped_raw_files\""
   ]
  },
  {
   "cell_type": "markdown",
   "id": "ef3db855-da93-499e-9843-80248578a7ed",
   "metadata": {},
   "source": [
    "## Copy all fastq.gz files into a collected gz folder"
   ]
  },
  {
   "cell_type": "code",
   "execution_count": null,
   "id": "b3421234-93b6-4960-b18b-e01348fd6d33",
   "metadata": {},
   "outputs": [],
   "source": [
    "! mkdir collected_gz_files\n",
    "! find ./unzipped_raw_files -type f -name \"*.gz\"  -exec cp {} ./collected_gz_files \\;\n"
   ]
  },
  {
   "cell_type": "markdown",
   "id": "8ad8ef21-69f1-4935-a464-8e48ff541a16",
   "metadata": {},
   "source": [
    "## Gunzip all gz files"
   ]
  },
  {
   "cell_type": "code",
   "execution_count": null,
   "id": "334fd99a-9640-4d74-ab7e-54f9d97e0a55",
   "metadata": {},
   "outputs": [],
   "source": [
    "%%bash\n",
    "for file in ./collected_gz_files/*.gz; do\n",
    "    gunzip \"$file\" \n",
    "done"
   ]
  },
  {
   "cell_type": "markdown",
   "id": "4ec46de6-7c72-42f3-967c-52e796e2c483",
   "metadata": {},
   "source": [
    "## concatenating all of the R1 and R2 files"
   ]
  },
  {
   "cell_type": "code",
   "execution_count": null,
   "id": "2611fe53-ea84-40a8-a413-4cf94491d546",
   "metadata": {},
   "outputs": [],
   "source": [
    "! mkdir concatenated_reads\n",
    "! cat ./collected_gz_files/*R1* > ./concatenated_reads/R1_concat.fastq\n",
    "! cat ./collected_gz_files/*R2* > ./concatenated_reads/R2_concat.fastq"
   ]
  },
  {
   "cell_type": "markdown",
   "id": "8fa64946-7471-4b55-a52a-18d15e55c36a",
   "metadata": {},
   "source": [
    "# Trimming reads with trimmomatic\n"
   ]
  },
  {
   "cell_type": "code",
   "execution_count": 1,
   "id": "97339500-48e1-41f3-a0e0-05c53f6f93b0",
   "metadata": {},
   "outputs": [
    {
     "name": "stdout",
     "output_type": "stream",
     "text": [
      "TrimmomaticPE: Started with arguments:\n",
      " ./concatenated_reads/R1_concat.fastq ./concatenated_reads/R2_concat.fastq ./trimmed_reads/lane1_forward_paired.fq.gz ./trimmed_reads/lane1_forward_unpaired.fq.gz ./trimmed_reads/lane1_reverse_paired.fq.gz ./trimmed_reads/lane1_reverse_unpaired.fq.gz LEADING:36 TRAILING:36 MINLEN:100\n",
      "Multiple cores found: Using 4 threads\n",
      "Quality encoding detected as phred33\n",
      "Input Read Pairs: 11844877 Both Surviving: 11244245 (94.93%) Forward Only Surviving: 479610 (4.05%) Reverse Only Surviving: 107576 (0.91%) Dropped: 13446 (0.11%)\n",
      "TrimmomaticPE: Completed successfully\n"
     ]
    }
   ],
   "source": [
    "!mkdir trimmed_reads \n",
    "!trimmomatic PE ./concatenated_reads/R1_concat.fastq ./concatenated_reads/R2_concat.fastq ./trimmed_reads/lane1_forward_paired.fq.gz ./trimmed_reads/lane1_forward_unpaired.fq.gz ./trimmed_reads/lane1_reverse_paired.fq.gz ./trimmed_reads/lane1_reverse_unpaired.fq.gz LEADING:36 TRAILING:36 MINLEN:100"
   ]
  },
  {
   "cell_type": "code",
   "execution_count": 1,
   "id": "83e3ff79-b2f1-49df-b683-1aacb4ec6fe9",
   "metadata": {},
   "outputs": [],
   "source": [
    "# Python visualization of read quality\n",
    "# histogram length\n",
    "# length x quality \n",
    "# # reads "
   ]
  },
  {
   "cell_type": "code",
   "execution_count": null,
   "id": "d7022b54-6d02-4081-bb1e-bcff56431688",
   "metadata": {},
   "outputs": [],
   "source": [
    "# Genome assembly in SPAdes "
   ]
  },
  {
   "cell_type": "code",
   "execution_count": null,
   "id": "26fe4b4c-dbd0-4f94-abfa-decf09183df0",
   "metadata": {},
   "outputs": [],
   "source": [
    "# Find genes in Augustus "
   ]
  },
  {
   "cell_type": "code",
   "execution_count": null,
   "id": "2fb1191f-8d38-4cd4-b662-1f9eaf3cdfc7",
   "metadata": {},
   "outputs": [],
   "source": [
    "# Check assembly quality in Busco\n"
   ]
  },
  {
   "cell_type": "code",
   "execution_count": null,
   "id": "bbd419fa-9e9b-4c19-af9d-460b02a86edc",
   "metadata": {},
   "outputs": [],
   "source": []
  }
 ],
 "metadata": {
  "kernelspec": {
   "display_name": "Python 3 (ipykernel)",
   "language": "python",
   "name": "python3"
  },
  "language_info": {
   "codemirror_mode": {
    "name": "ipython",
    "version": 3
   },
   "file_extension": ".py",
   "mimetype": "text/x-python",
   "name": "python",
   "nbconvert_exporter": "python",
   "pygments_lexer": "ipython3",
   "version": "3.11.8"
  }
 },
 "nbformat": 4,
 "nbformat_minor": 5
}
