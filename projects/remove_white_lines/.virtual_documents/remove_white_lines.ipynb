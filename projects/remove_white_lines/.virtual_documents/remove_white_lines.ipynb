def remove_empty_lines(input_file, output_file):
    with open(input_file, 'r') as file:
        lines = file.readlines()

    # Remove empty lines
    non_empty_lines = [line for line in lines if line.strip()]

    with open(output_file, 'w') as file:
        file.writelines(non_empty_lines)




remove_empty_lines('test.txt','output.txt')



