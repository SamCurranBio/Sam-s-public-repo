{
 "cells": [
  {
   "cell_type": "code",

=======
   "execution_count": 4,
>>>>>>> e1b581adee74dc3603a87dbbf7bcb591b8e2f792
   "id": "7d5ab999-78af-4661-96c8-20e201ffe38e",
   "metadata": {},
   "outputs": [],
   "source": [
    "def remove_empty_lines(input_file, output_file):\n",
    "    with open(input_file, 'r') as file:\n",
    "        lines = file.readlines()\n",
    "\n",
    "    # Remove empty lines\n",
    "    non_empty_lines = [line for line in lines if line.strip()]\n",
    "\n",
    "    with open(output_file, 'w') as file:\n",
    "        file.writelines(non_empty_lines)\n",
    "\n"
   ]
  },
  {
   "cell_type": "code",

=======
   "execution_count": 6,
>>>>>>> e1b581adee74dc3603a87dbbf7bcb591b8e2f792
   "id": "36087718-c69b-4005-b563-dfac4d2b216d",
   "metadata": {},
   "outputs": [],
   "source": [

=======
    "remove_empty_lines('test.txt','output.txt')"
>>>>>>> e1b581adee74dc3603a87dbbf7bcb591b8e2f792
   ]
  },
  {
   "cell_type": "code",
   "execution_count": null,
   "id": "5d18bc71-6a59-45cc-b416-b3205538a9db",
   "metadata": {},
   "outputs": [],
   "source": []
  }
 ],
 "metadata": {
  "kernelspec": {
   "display_name": "Python 3 (ipykernel)",
   "language": "python",
   "name": "python3"
  },
  "language_info": {
   "codemirror_mode": {
    "name": "ipython",
    "version": 3
   },
   "file_extension": ".py",
   "mimetype": "text/x-python",
   "name": "python",
   "nbconvert_exporter": "python",
   "pygments_lexer": "ipython3",

   "version": "3.10.12"
>>>>>>> e1b581adee74dc3603a87dbbf7bcb591b8e2f792
  }
 },
 "nbformat": 4,
 "nbformat_minor": 5
}
